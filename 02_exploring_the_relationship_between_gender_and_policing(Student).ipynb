{
  "nbformat": 4,
  "nbformat_minor": 0,
  "metadata": {
    "kernelspec": {
      "display_name": "Python 3",
      "language": "python",
      "name": "python3"
    },
    "language_info": {
      "codemirror_mode": {
        "name": "ipython",
        "version": 3
      },
      "file_extension": ".py",
      "mimetype": "text/x-python",
      "name": "python",
      "nbconvert_exporter": "python",
      "pygments_lexer": "ipython3",
      "version": "3.7.3"
    },
    "colab": {
      "name": "02-exploring-the-relationship-between-gender-and-policing(Student).ipynb",
      "provenance": [],
      "collapsed_sections": [],
      "include_colab_link": true
    }
  },
  "cells": [
    {
      "cell_type": "markdown",
      "metadata": {
        "id": "view-in-github",
        "colab_type": "text"
      },
      "source": [
        "<a href=\"https://colab.research.google.com/github/mehmetsar/DA_assignments/blob/main/02_exploring_the_relationship_between_gender_and_policing(Student).ipynb\" target=\"_parent\"><img src=\"https://colab.research.google.com/assets/colab-badge.svg\" alt=\"Open In Colab\"/></a>"
      ]
    },
    {
      "cell_type": "markdown",
      "metadata": {
        "id": "UR7URgm3eEKO"
      },
      "source": [
        "___\n",
        "\n",
        "<p style=\"text-align: center;\"><img src=\"https://docs.google.com/uc?id=1lY0Uj5R04yMY3-ZppPWxqCr5pvBLYPnV\" class=\"img-fluid\" alt=\"CLRSWY\"></p>\n",
        "\n",
        "___"
      ]
    },
    {
      "cell_type": "markdown",
      "metadata": {
        "id": "fAjDlWWxeEKZ"
      },
      "source": [
        "<h1><p style=\"text-align: center;\">Data Analysis with Python <br>Project - 1</p><h1> - Traffic Police Stops <img src=\"https://docs.google.com/uc?id=17CPCwi3_VvzcS87TOsh4_U8eExOhL6Ki\" class=\"img-fluid\" alt=\"CLRSWY\" width=\"200\" height=\"100\"> "
      ]
    },
    {
      "cell_type": "markdown",
      "metadata": {
        "id": "CHtKcY0TeEKa"
      },
      "source": [
        "Does the ``gender`` of a driver have an impact on police behavior during a traffic stop? **In this chapter**, you will explore that question while practicing filtering, grouping, method chaining, Boolean math, string methods, and more!"
      ]
    },
    {
      "cell_type": "markdown",
      "metadata": {
        "id": "Kfgd-F9XeEKb"
      },
      "source": [
        "***"
      ]
    },
    {
      "cell_type": "markdown",
      "metadata": {
        "id": "q3g9T1ereEKc"
      },
      "source": [
        "## Examining traffic violations"
      ]
    },
    {
      "cell_type": "markdown",
      "metadata": {
        "id": "k1RO8RCHeEKc"
      },
      "source": [
        "Before comparing the violations being committed by each gender, you should examine the ``violations`` committed by all drivers to get a baseline understanding of the data.\n",
        "\n",
        "In this exercise, you'll count the unique values in the ``violation`` column, and then separately express those counts as proportions."
      ]
    },
    {
      "cell_type": "markdown",
      "metadata": {
        "id": "JE6NzavVeEKd"
      },
      "source": [
        "> Before starting your work in this section **repeat the steps which you did in the previos chapter for preparing the data.** Continue to this chapter based on where you were in the end of the previous chapter."
      ]
    },
    {
      "cell_type": "code",
      "metadata": {
        "id": "0QZ0EG89eEKf"
      },
      "source": [
        "import numpy as np\n",
        "import pandas as pd\n",
        "import matplotlib.pyplot as plt\n"
      ],
      "execution_count": 6,
      "outputs": []
    },
    {
      "cell_type": "code",
      "metadata": {
        "colab": {
          "base_uri": "https://localhost:8080/"
        },
        "id": "oNofV9xzeWtZ",
        "outputId": "9fd5ef29-07fe-4ebc-c43e-aa801bf61c8a"
      },
      "source": [
        "ri = pd.read_csv(\"RI_cleaned.csv\", nrows = 50000)\n"
      ],
      "execution_count": 7,
      "outputs": [
        {
          "output_type": "stream",
          "text": [
            "/usr/local/lib/python3.7/dist-packages/IPython/core/interactiveshell.py:2718: DtypeWarning: Columns (8) have mixed types.Specify dtype option on import or set low_memory=False.\n",
            "  interactivity=interactivity, compiler=compiler, result=result)\n"
          ],
          "name": "stderr"
        }
      ]
    },
    {
      "cell_type": "code",
      "metadata": {
        "id": "FIlsW1GEgbwt"
      },
      "source": [
        "drop_columns = [\"state\", \"county_name\", \"county_fips\", \"fine_grained_location\"]\n",
        "ri.drop(drop_columns, axis = \"columns\", inplace = True)\n"
      ],
      "execution_count": 8,
      "outputs": []
    },
    {
      "cell_type": "code",
      "metadata": {
        "id": "5kkMWAaagerT"
      },
      "source": [
        "ri.dropna(subset = [\"driver_gender\"], inplace = True)\n"
      ],
      "execution_count": 9,
      "outputs": []
    },
    {
      "cell_type": "code",
      "metadata": {
        "id": "R1Um5f63gmTr"
      },
      "source": [
        "ri[\"is_arrested\"] = ri.is_arrested.astype(\"bool\")\n"
      ],
      "execution_count": 10,
      "outputs": []
    },
    {
      "cell_type": "code",
      "metadata": {
        "id": "SvK9feYcgru0"
      },
      "source": [
        "combined = ri.stop_date.str.cat(ri.stop_time, sep = \" \")"
      ],
      "execution_count": 11,
      "outputs": []
    },
    {
      "cell_type": "code",
      "metadata": {
        "id": "ApuvukytguKz"
      },
      "source": [
        "ri[\"stop_datetime\"] = pd.to_datetime(combined)\n"
      ],
      "execution_count": 12,
      "outputs": []
    },
    {
      "cell_type": "code",
      "metadata": {
        "id": "aJegT6TYgwwP"
      },
      "source": [
        "ri.drop([\"stop_date\", \"stop_time\"], axis = \"columns\", inplace=True)\n"
      ],
      "execution_count": 13,
      "outputs": []
    },
    {
      "cell_type": "code",
      "metadata": {
        "id": "dIQacknCgzv8"
      },
      "source": [
        "ri.set_index(\"stop_datetime\", inplace = True)\n"
      ],
      "execution_count": 14,
      "outputs": []
    },
    {
      "cell_type": "code",
      "metadata": {
        "id": "F-S4ttItg0nE"
      },
      "source": [
        ""
      ],
      "execution_count": null,
      "outputs": []
    },
    {
      "cell_type": "markdown",
      "metadata": {
        "id": "Y2RHHmxweEKh"
      },
      "source": [
        "**INSTRUCTIONS**\n",
        "\n",
        "*   Count the unique values in the ``violation`` column, to see what violations are being committed by all drivers.\n",
        "*   Express the violation counts as proportions of the total."
      ]
    },
    {
      "cell_type": "code",
      "metadata": {
        "colab": {
          "base_uri": "https://localhost:8080/"
        },
        "id": "HfQ_F0rxgrKv",
        "outputId": "d89ea927-39ea-432e-d5bc-847abc965163"
      },
      "source": [
        "violation_counts = ri.violation.value_counts()\n",
        "violation_counts\n"
      ],
      "execution_count": 15,
      "outputs": [
        {
          "output_type": "execute_result",
          "data": {
            "text/plain": [
              "Speeding               36111\n",
              "Moving violation        6522\n",
              "Equipment               3022\n",
              "Registration/plates     1463\n",
              "Other                    892\n",
              "Name: violation, dtype: int64"
            ]
          },
          "metadata": {
            "tags": []
          },
          "execution_count": 15
        }
      ]
    },
    {
      "cell_type": "code",
      "metadata": {
        "colab": {
          "base_uri": "https://localhost:8080/"
        },
        "id": "wl2ylF6lkTRP",
        "outputId": "70dcf827-e467-4202-b5e8-fd056d8b504b"
      },
      "source": [
        "(violation_counts/ri.violation.count())*100"
      ],
      "execution_count": 16,
      "outputs": [
        {
          "output_type": "execute_result",
          "data": {
            "text/plain": [
              "Speeding               75.215580\n",
              "Moving violation       13.584670\n",
              "Equipment               6.294522\n",
              "Registration/plates     3.047282\n",
              "Other                   1.857946\n",
              "Name: violation, dtype: float64"
            ]
          },
          "metadata": {
            "tags": []
          },
          "execution_count": 16
        }
      ]
    },
    {
      "cell_type": "code",
      "metadata": {
        "colab": {
          "base_uri": "https://localhost:8080/"
        },
        "id": "JknSqFV_7xF4",
        "outputId": "886ce8e4-4fb0-4326-f599-8074160fbab9"
      },
      "source": [
        "ri.violation.value_counts(normalize = True)*100 # üstteki kod gibi  yüzdeyi verir"
      ],
      "execution_count": 21,
      "outputs": [
        {
          "output_type": "execute_result",
          "data": {
            "text/plain": [
              "Speeding               75.215580\n",
              "Moving violation       13.584670\n",
              "Equipment               6.294522\n",
              "Registration/plates     3.047282\n",
              "Other                   1.857946\n",
              "Name: violation, dtype: float64"
            ]
          },
          "metadata": {
            "tags": []
          },
          "execution_count": 21
        }
      ]
    },
    {
      "cell_type": "code",
      "metadata": {
        "colab": {
          "base_uri": "https://localhost:8080/"
        },
        "id": "2TRlaAaDeEKi",
        "outputId": "4f06fde8-dc82-4a51-8050-95a4a4e7ada5"
      },
      "source": [
        "ri.violation.count()"
      ],
      "execution_count": 18,
      "outputs": [
        {
          "output_type": "execute_result",
          "data": {
            "text/plain": [
              "48010"
            ]
          },
          "metadata": {
            "tags": []
          },
          "execution_count": 18
        }
      ]
    },
    {
      "cell_type": "markdown",
      "metadata": {
        "id": "Ou2_0prxeEKj"
      },
      "source": [
        "***"
      ]
    },
    {
      "cell_type": "markdown",
      "metadata": {
        "id": "nIaBXf2teEKk"
      },
      "source": [
        "## Comparing violations by gender"
      ]
    },
    {
      "cell_type": "markdown",
      "metadata": {
        "id": "UemvB-dBeEKl"
      },
      "source": [
        "The question we're trying to answer is whether male and female drivers tend to commit different types of traffic violations.\n",
        "\n",
        "You'll first create a ``DataFrame`` for each gender, and then analyze the ``violations`` in each ``DataFrame`` separately."
      ]
    },
    {
      "cell_type": "markdown",
      "metadata": {
        "id": "aY49PRMheEKm"
      },
      "source": [
        "**INSTRUCTIONS**\n",
        "\n",
        "*   Create a ``DataFrame``, female, that only contains rows in which ``driver_gender`` is ``'F'``.\n",
        "*   Create a ``DataFrame``, male, that only contains rows in which ``driver_gender`` is ``'M'``.\n",
        "*   Count the ``violations`` committed by female drivers and express them as proportions.\n",
        "*   Count the violations committed by male drivers and express them as proportions."
      ]
    },
    {
      "cell_type": "code",
      "metadata": {
        "colab": {
          "base_uri": "https://localhost:8080/",
          "height": 425
        },
        "id": "INgNzYkxmYoP",
        "outputId": "ecf724f0-4bc2-4310-9a08-498e8b75bd66"
      },
      "source": [
        "ri.head()"
      ],
      "execution_count": 22,
      "outputs": [
        {
          "output_type": "execute_result",
          "data": {
            "text/html": [
              "<div>\n",
              "<style scoped>\n",
              "    .dataframe tbody tr th:only-of-type {\n",
              "        vertical-align: middle;\n",
              "    }\n",
              "\n",
              "    .dataframe tbody tr th {\n",
              "        vertical-align: top;\n",
              "    }\n",
              "\n",
              "    .dataframe thead th {\n",
              "        text-align: right;\n",
              "    }\n",
              "</style>\n",
              "<table border=\"1\" class=\"dataframe\">\n",
              "  <thead>\n",
              "    <tr style=\"text-align: right;\">\n",
              "      <th></th>\n",
              "      <th>id</th>\n",
              "      <th>location_raw</th>\n",
              "      <th>police_department</th>\n",
              "      <th>driver_gender</th>\n",
              "      <th>driver_age_raw</th>\n",
              "      <th>driver_age</th>\n",
              "      <th>driver_race_raw</th>\n",
              "      <th>driver_race</th>\n",
              "      <th>violation_raw</th>\n",
              "      <th>violation</th>\n",
              "      <th>search_conducted</th>\n",
              "      <th>search_type_raw</th>\n",
              "      <th>search_type</th>\n",
              "      <th>contraband_found</th>\n",
              "      <th>stop_outcome</th>\n",
              "      <th>is_arrested</th>\n",
              "      <th>stop_duration</th>\n",
              "      <th>out_of_state</th>\n",
              "      <th>drugs_related_stop</th>\n",
              "      <th>district</th>\n",
              "    </tr>\n",
              "    <tr>\n",
              "      <th>stop_datetime</th>\n",
              "      <th></th>\n",
              "      <th></th>\n",
              "      <th></th>\n",
              "      <th></th>\n",
              "      <th></th>\n",
              "      <th></th>\n",
              "      <th></th>\n",
              "      <th></th>\n",
              "      <th></th>\n",
              "      <th></th>\n",
              "      <th></th>\n",
              "      <th></th>\n",
              "      <th></th>\n",
              "      <th></th>\n",
              "      <th></th>\n",
              "      <th></th>\n",
              "      <th></th>\n",
              "      <th></th>\n",
              "      <th></th>\n",
              "      <th></th>\n",
              "    </tr>\n",
              "  </thead>\n",
              "  <tbody>\n",
              "    <tr>\n",
              "      <th>2005-01-02 01:55:00</th>\n",
              "      <td>RI-2005-00001</td>\n",
              "      <td>Zone K1</td>\n",
              "      <td>600</td>\n",
              "      <td>M</td>\n",
              "      <td>1985.0</td>\n",
              "      <td>20.0</td>\n",
              "      <td>W</td>\n",
              "      <td>White</td>\n",
              "      <td>Speeding</td>\n",
              "      <td>Speeding</td>\n",
              "      <td>False</td>\n",
              "      <td>NaN</td>\n",
              "      <td>NaN</td>\n",
              "      <td>False</td>\n",
              "      <td>Citation</td>\n",
              "      <td>False</td>\n",
              "      <td>0-15 Min</td>\n",
              "      <td>False</td>\n",
              "      <td>False</td>\n",
              "      <td>Zone K1</td>\n",
              "    </tr>\n",
              "    <tr>\n",
              "      <th>2005-01-02 20:30:00</th>\n",
              "      <td>RI-2005-00002</td>\n",
              "      <td>Zone X4</td>\n",
              "      <td>500</td>\n",
              "      <td>M</td>\n",
              "      <td>1987.0</td>\n",
              "      <td>18.0</td>\n",
              "      <td>W</td>\n",
              "      <td>White</td>\n",
              "      <td>Speeding</td>\n",
              "      <td>Speeding</td>\n",
              "      <td>False</td>\n",
              "      <td>NaN</td>\n",
              "      <td>NaN</td>\n",
              "      <td>False</td>\n",
              "      <td>Citation</td>\n",
              "      <td>False</td>\n",
              "      <td>16-30 Min</td>\n",
              "      <td>False</td>\n",
              "      <td>False</td>\n",
              "      <td>Zone X4</td>\n",
              "    </tr>\n",
              "    <tr>\n",
              "      <th>2005-01-04 12:55:00</th>\n",
              "      <td>RI-2005-00004</td>\n",
              "      <td>Zone X4</td>\n",
              "      <td>500</td>\n",
              "      <td>M</td>\n",
              "      <td>1986.0</td>\n",
              "      <td>19.0</td>\n",
              "      <td>W</td>\n",
              "      <td>White</td>\n",
              "      <td>Equipment/Inspection Violation</td>\n",
              "      <td>Equipment</td>\n",
              "      <td>False</td>\n",
              "      <td>NaN</td>\n",
              "      <td>NaN</td>\n",
              "      <td>False</td>\n",
              "      <td>Citation</td>\n",
              "      <td>False</td>\n",
              "      <td>0-15 Min</td>\n",
              "      <td>False</td>\n",
              "      <td>False</td>\n",
              "      <td>Zone X4</td>\n",
              "    </tr>\n",
              "    <tr>\n",
              "      <th>2005-01-06 01:30:00</th>\n",
              "      <td>RI-2005-00005</td>\n",
              "      <td>Zone X4</td>\n",
              "      <td>500</td>\n",
              "      <td>M</td>\n",
              "      <td>1978.0</td>\n",
              "      <td>27.0</td>\n",
              "      <td>B</td>\n",
              "      <td>Black</td>\n",
              "      <td>Equipment/Inspection Violation</td>\n",
              "      <td>Equipment</td>\n",
              "      <td>False</td>\n",
              "      <td>NaN</td>\n",
              "      <td>NaN</td>\n",
              "      <td>False</td>\n",
              "      <td>Citation</td>\n",
              "      <td>False</td>\n",
              "      <td>0-15 Min</td>\n",
              "      <td>False</td>\n",
              "      <td>False</td>\n",
              "      <td>Zone X4</td>\n",
              "    </tr>\n",
              "    <tr>\n",
              "      <th>2005-01-12 08:05:00</th>\n",
              "      <td>RI-2005-00006</td>\n",
              "      <td>Zone X1</td>\n",
              "      <td>0</td>\n",
              "      <td>M</td>\n",
              "      <td>1973.0</td>\n",
              "      <td>32.0</td>\n",
              "      <td>B</td>\n",
              "      <td>Black</td>\n",
              "      <td>Call for Service</td>\n",
              "      <td>Other</td>\n",
              "      <td>False</td>\n",
              "      <td>NaN</td>\n",
              "      <td>NaN</td>\n",
              "      <td>False</td>\n",
              "      <td>Citation</td>\n",
              "      <td>False</td>\n",
              "      <td>30+ Min</td>\n",
              "      <td>True</td>\n",
              "      <td>False</td>\n",
              "      <td>Zone X1</td>\n",
              "    </tr>\n",
              "  </tbody>\n",
              "</table>\n",
              "</div>"
            ],
            "text/plain": [
              "                                id location_raw  ... drugs_related_stop district\n",
              "stop_datetime                                    ...                            \n",
              "2005-01-02 01:55:00  RI-2005-00001      Zone K1  ...              False  Zone K1\n",
              "2005-01-02 20:30:00  RI-2005-00002      Zone X4  ...              False  Zone X4\n",
              "2005-01-04 12:55:00  RI-2005-00004      Zone X4  ...              False  Zone X4\n",
              "2005-01-06 01:30:00  RI-2005-00005      Zone X4  ...              False  Zone X4\n",
              "2005-01-12 08:05:00  RI-2005-00006      Zone X1  ...              False  Zone X1\n",
              "\n",
              "[5 rows x 20 columns]"
            ]
          },
          "metadata": {
            "tags": []
          },
          "execution_count": 22
        }
      ]
    },
    {
      "cell_type": "code",
      "metadata": {
        "colab": {
          "base_uri": "https://localhost:8080/",
          "height": 810
        },
        "id": "oxpBPJQWeEKo",
        "outputId": "66bae743-d151-4ab7-ebe4-75902c48908f"
      },
      "source": [
        "riwomen = ri[ri[\"driver_gender\"]==\"F\"]\n",
        "riwomen"
      ],
      "execution_count": 23,
      "outputs": [
        {
          "output_type": "execute_result",
          "data": {
            "text/html": [
              "<div>\n",
              "<style scoped>\n",
              "    .dataframe tbody tr th:only-of-type {\n",
              "        vertical-align: middle;\n",
              "    }\n",
              "\n",
              "    .dataframe tbody tr th {\n",
              "        vertical-align: top;\n",
              "    }\n",
              "\n",
              "    .dataframe thead th {\n",
              "        text-align: right;\n",
              "    }\n",
              "</style>\n",
              "<table border=\"1\" class=\"dataframe\">\n",
              "  <thead>\n",
              "    <tr style=\"text-align: right;\">\n",
              "      <th></th>\n",
              "      <th>id</th>\n",
              "      <th>location_raw</th>\n",
              "      <th>police_department</th>\n",
              "      <th>driver_gender</th>\n",
              "      <th>driver_age_raw</th>\n",
              "      <th>driver_age</th>\n",
              "      <th>driver_race_raw</th>\n",
              "      <th>driver_race</th>\n",
              "      <th>violation_raw</th>\n",
              "      <th>violation</th>\n",
              "      <th>search_conducted</th>\n",
              "      <th>search_type_raw</th>\n",
              "      <th>search_type</th>\n",
              "      <th>contraband_found</th>\n",
              "      <th>stop_outcome</th>\n",
              "      <th>is_arrested</th>\n",
              "      <th>stop_duration</th>\n",
              "      <th>out_of_state</th>\n",
              "      <th>drugs_related_stop</th>\n",
              "      <th>district</th>\n",
              "    </tr>\n",
              "    <tr>\n",
              "      <th>stop_datetime</th>\n",
              "      <th></th>\n",
              "      <th></th>\n",
              "      <th></th>\n",
              "      <th></th>\n",
              "      <th></th>\n",
              "      <th></th>\n",
              "      <th></th>\n",
              "      <th></th>\n",
              "      <th></th>\n",
              "      <th></th>\n",
              "      <th></th>\n",
              "      <th></th>\n",
              "      <th></th>\n",
              "      <th></th>\n",
              "      <th></th>\n",
              "      <th></th>\n",
              "      <th></th>\n",
              "      <th></th>\n",
              "      <th></th>\n",
              "      <th></th>\n",
              "    </tr>\n",
              "  </thead>\n",
              "  <tbody>\n",
              "    <tr>\n",
              "      <th>2005-02-24 01:20:00</th>\n",
              "      <td>RI-2005-00016</td>\n",
              "      <td>Zone X3</td>\n",
              "      <td>200</td>\n",
              "      <td>F</td>\n",
              "      <td>1983.0</td>\n",
              "      <td>22.0</td>\n",
              "      <td>W</td>\n",
              "      <td>White</td>\n",
              "      <td>Speeding</td>\n",
              "      <td>Speeding</td>\n",
              "      <td>False</td>\n",
              "      <td>NaN</td>\n",
              "      <td>NaN</td>\n",
              "      <td>False</td>\n",
              "      <td>Citation</td>\n",
              "      <td>False</td>\n",
              "      <td>0-15 Min</td>\n",
              "      <td>True</td>\n",
              "      <td>False</td>\n",
              "      <td>Zone X3</td>\n",
              "    </tr>\n",
              "    <tr>\n",
              "      <th>2005-03-14 10:00:00</th>\n",
              "      <td>RI-2005-00019</td>\n",
              "      <td>Zone K3</td>\n",
              "      <td>300</td>\n",
              "      <td>F</td>\n",
              "      <td>1984.0</td>\n",
              "      <td>21.0</td>\n",
              "      <td>W</td>\n",
              "      <td>White</td>\n",
              "      <td>Speeding</td>\n",
              "      <td>Speeding</td>\n",
              "      <td>False</td>\n",
              "      <td>NaN</td>\n",
              "      <td>NaN</td>\n",
              "      <td>False</td>\n",
              "      <td>Citation</td>\n",
              "      <td>False</td>\n",
              "      <td>0-15 Min</td>\n",
              "      <td>False</td>\n",
              "      <td>False</td>\n",
              "      <td>Zone K3</td>\n",
              "    </tr>\n",
              "    <tr>\n",
              "      <th>2005-03-29 23:20:00</th>\n",
              "      <td>RI-2005-00026</td>\n",
              "      <td>Zone K3</td>\n",
              "      <td>300</td>\n",
              "      <td>F</td>\n",
              "      <td>1971.0</td>\n",
              "      <td>34.0</td>\n",
              "      <td>W</td>\n",
              "      <td>White</td>\n",
              "      <td>Speeding</td>\n",
              "      <td>Speeding</td>\n",
              "      <td>False</td>\n",
              "      <td>NaN</td>\n",
              "      <td>NaN</td>\n",
              "      <td>False</td>\n",
              "      <td>Citation</td>\n",
              "      <td>False</td>\n",
              "      <td>0-15 Min</td>\n",
              "      <td>True</td>\n",
              "      <td>False</td>\n",
              "      <td>Zone K3</td>\n",
              "    </tr>\n",
              "    <tr>\n",
              "      <th>2005-06-06 13:20:00</th>\n",
              "      <td>RI-2005-00035</td>\n",
              "      <td>Zone X4</td>\n",
              "      <td>500</td>\n",
              "      <td>F</td>\n",
              "      <td>1986.0</td>\n",
              "      <td>19.0</td>\n",
              "      <td>W</td>\n",
              "      <td>White</td>\n",
              "      <td>Speeding</td>\n",
              "      <td>Speeding</td>\n",
              "      <td>False</td>\n",
              "      <td>NaN</td>\n",
              "      <td>NaN</td>\n",
              "      <td>False</td>\n",
              "      <td>Citation</td>\n",
              "      <td>False</td>\n",
              "      <td>0-15 Min</td>\n",
              "      <td>False</td>\n",
              "      <td>False</td>\n",
              "      <td>Zone X4</td>\n",
              "    </tr>\n",
              "    <tr>\n",
              "      <th>2005-06-18 16:30:00</th>\n",
              "      <td>RI-2005-00037</td>\n",
              "      <td>Zone X4</td>\n",
              "      <td>500</td>\n",
              "      <td>F</td>\n",
              "      <td>1964.0</td>\n",
              "      <td>41.0</td>\n",
              "      <td>W</td>\n",
              "      <td>White</td>\n",
              "      <td>Other Traffic Violation</td>\n",
              "      <td>Moving violation</td>\n",
              "      <td>False</td>\n",
              "      <td>NaN</td>\n",
              "      <td>NaN</td>\n",
              "      <td>False</td>\n",
              "      <td>Arrest Driver</td>\n",
              "      <td>True</td>\n",
              "      <td>30+ Min</td>\n",
              "      <td>False</td>\n",
              "      <td>False</td>\n",
              "      <td>Zone X4</td>\n",
              "    </tr>\n",
              "    <tr>\n",
              "      <th>...</th>\n",
              "      <td>...</td>\n",
              "      <td>...</td>\n",
              "      <td>...</td>\n",
              "      <td>...</td>\n",
              "      <td>...</td>\n",
              "      <td>...</td>\n",
              "      <td>...</td>\n",
              "      <td>...</td>\n",
              "      <td>...</td>\n",
              "      <td>...</td>\n",
              "      <td>...</td>\n",
              "      <td>...</td>\n",
              "      <td>...</td>\n",
              "      <td>...</td>\n",
              "      <td>...</td>\n",
              "      <td>...</td>\n",
              "      <td>...</td>\n",
              "      <td>...</td>\n",
              "      <td>...</td>\n",
              "      <td>...</td>\n",
              "    </tr>\n",
              "    <tr>\n",
              "      <th>2006-08-08 22:20:00</th>\n",
              "      <td>RI-2006-35911</td>\n",
              "      <td>Zone K3</td>\n",
              "      <td>300</td>\n",
              "      <td>F</td>\n",
              "      <td>1980.0</td>\n",
              "      <td>26.0</td>\n",
              "      <td>W</td>\n",
              "      <td>White</td>\n",
              "      <td>Speeding</td>\n",
              "      <td>Speeding</td>\n",
              "      <td>False</td>\n",
              "      <td>NaN</td>\n",
              "      <td>NaN</td>\n",
              "      <td>False</td>\n",
              "      <td>Citation</td>\n",
              "      <td>False</td>\n",
              "      <td>0-15 Min</td>\n",
              "      <td>True</td>\n",
              "      <td>False</td>\n",
              "      <td>Zone K3</td>\n",
              "    </tr>\n",
              "    <tr>\n",
              "      <th>2006-08-08 22:25:00</th>\n",
              "      <td>RI-2006-35913</td>\n",
              "      <td>Zone K3</td>\n",
              "      <td>300</td>\n",
              "      <td>F</td>\n",
              "      <td>1987.0</td>\n",
              "      <td>19.0</td>\n",
              "      <td>W</td>\n",
              "      <td>White</td>\n",
              "      <td>Speeding</td>\n",
              "      <td>Speeding</td>\n",
              "      <td>False</td>\n",
              "      <td>NaN</td>\n",
              "      <td>NaN</td>\n",
              "      <td>False</td>\n",
              "      <td>Citation</td>\n",
              "      <td>False</td>\n",
              "      <td>0-15 Min</td>\n",
              "      <td>True</td>\n",
              "      <td>False</td>\n",
              "      <td>Zone K3</td>\n",
              "    </tr>\n",
              "    <tr>\n",
              "      <th>2006-08-08 22:45:00</th>\n",
              "      <td>RI-2006-35916</td>\n",
              "      <td>Zone K1</td>\n",
              "      <td>600</td>\n",
              "      <td>F</td>\n",
              "      <td>1978.0</td>\n",
              "      <td>28.0</td>\n",
              "      <td>B</td>\n",
              "      <td>Black</td>\n",
              "      <td>Speeding</td>\n",
              "      <td>Speeding</td>\n",
              "      <td>False</td>\n",
              "      <td>NaN</td>\n",
              "      <td>NaN</td>\n",
              "      <td>False</td>\n",
              "      <td>Citation</td>\n",
              "      <td>False</td>\n",
              "      <td>0-15 Min</td>\n",
              "      <td>True</td>\n",
              "      <td>False</td>\n",
              "      <td>Zone K1</td>\n",
              "    </tr>\n",
              "    <tr>\n",
              "      <th>2006-08-08 22:45:00</th>\n",
              "      <td>RI-2006-35918</td>\n",
              "      <td>Zone K3</td>\n",
              "      <td>300</td>\n",
              "      <td>F</td>\n",
              "      <td>1971.0</td>\n",
              "      <td>35.0</td>\n",
              "      <td>B</td>\n",
              "      <td>Black</td>\n",
              "      <td>Speeding</td>\n",
              "      <td>Speeding</td>\n",
              "      <td>False</td>\n",
              "      <td>NaN</td>\n",
              "      <td>NaN</td>\n",
              "      <td>False</td>\n",
              "      <td>Citation</td>\n",
              "      <td>False</td>\n",
              "      <td>0-15 Min</td>\n",
              "      <td>True</td>\n",
              "      <td>False</td>\n",
              "      <td>Zone K3</td>\n",
              "    </tr>\n",
              "    <tr>\n",
              "      <th>2006-08-08 23:00:00</th>\n",
              "      <td>RI-2006-35920</td>\n",
              "      <td>Zone K1</td>\n",
              "      <td>600</td>\n",
              "      <td>F</td>\n",
              "      <td>1982.0</td>\n",
              "      <td>24.0</td>\n",
              "      <td>W</td>\n",
              "      <td>White</td>\n",
              "      <td>Speeding</td>\n",
              "      <td>Speeding</td>\n",
              "      <td>False</td>\n",
              "      <td>NaN</td>\n",
              "      <td>NaN</td>\n",
              "      <td>False</td>\n",
              "      <td>Citation</td>\n",
              "      <td>False</td>\n",
              "      <td>0-15 Min</td>\n",
              "      <td>False</td>\n",
              "      <td>False</td>\n",
              "      <td>Zone K1</td>\n",
              "    </tr>\n",
              "  </tbody>\n",
              "</table>\n",
              "<p>13309 rows × 20 columns</p>\n",
              "</div>"
            ],
            "text/plain": [
              "                                id location_raw  ... drugs_related_stop district\n",
              "stop_datetime                                    ...                            \n",
              "2005-02-24 01:20:00  RI-2005-00016      Zone X3  ...              False  Zone X3\n",
              "2005-03-14 10:00:00  RI-2005-00019      Zone K3  ...              False  Zone K3\n",
              "2005-03-29 23:20:00  RI-2005-00026      Zone K3  ...              False  Zone K3\n",
              "2005-06-06 13:20:00  RI-2005-00035      Zone X4  ...              False  Zone X4\n",
              "2005-06-18 16:30:00  RI-2005-00037      Zone X4  ...              False  Zone X4\n",
              "...                            ...          ...  ...                ...      ...\n",
              "2006-08-08 22:20:00  RI-2006-35911      Zone K3  ...              False  Zone K3\n",
              "2006-08-08 22:25:00  RI-2006-35913      Zone K3  ...              False  Zone K3\n",
              "2006-08-08 22:45:00  RI-2006-35916      Zone K1  ...              False  Zone K1\n",
              "2006-08-08 22:45:00  RI-2006-35918      Zone K3  ...              False  Zone K3\n",
              "2006-08-08 23:00:00  RI-2006-35920      Zone K1  ...              False  Zone K1\n",
              "\n",
              "[13309 rows x 20 columns]"
            ]
          },
          "metadata": {
            "tags": []
          },
          "execution_count": 23
        }
      ]
    },
    {
      "cell_type": "code",
      "metadata": {
        "colab": {
          "base_uri": "https://localhost:8080/",
          "height": 620
        },
        "id": "LRb3SWFcmnTd",
        "outputId": "57ed9df5-ffe0-4a76-a7bd-d58a34ed6937"
      },
      "source": [
        "rimen = ri[ri[\"driver_gender\"]==\"M\"]\n",
        "rimen.sample(8)"
      ],
      "execution_count": 24,
      "outputs": [
        {
          "output_type": "execute_result",
          "data": {
            "text/html": [
              "<div>\n",
              "<style scoped>\n",
              "    .dataframe tbody tr th:only-of-type {\n",
              "        vertical-align: middle;\n",
              "    }\n",
              "\n",
              "    .dataframe tbody tr th {\n",
              "        vertical-align: top;\n",
              "    }\n",
              "\n",
              "    .dataframe thead th {\n",
              "        text-align: right;\n",
              "    }\n",
              "</style>\n",
              "<table border=\"1\" class=\"dataframe\">\n",
              "  <thead>\n",
              "    <tr style=\"text-align: right;\">\n",
              "      <th></th>\n",
              "      <th>id</th>\n",
              "      <th>location_raw</th>\n",
              "      <th>police_department</th>\n",
              "      <th>driver_gender</th>\n",
              "      <th>driver_age_raw</th>\n",
              "      <th>driver_age</th>\n",
              "      <th>driver_race_raw</th>\n",
              "      <th>driver_race</th>\n",
              "      <th>violation_raw</th>\n",
              "      <th>violation</th>\n",
              "      <th>search_conducted</th>\n",
              "      <th>search_type_raw</th>\n",
              "      <th>search_type</th>\n",
              "      <th>contraband_found</th>\n",
              "      <th>stop_outcome</th>\n",
              "      <th>is_arrested</th>\n",
              "      <th>stop_duration</th>\n",
              "      <th>out_of_state</th>\n",
              "      <th>drugs_related_stop</th>\n",
              "      <th>district</th>\n",
              "    </tr>\n",
              "    <tr>\n",
              "      <th>stop_datetime</th>\n",
              "      <th></th>\n",
              "      <th></th>\n",
              "      <th></th>\n",
              "      <th></th>\n",
              "      <th></th>\n",
              "      <th></th>\n",
              "      <th></th>\n",
              "      <th></th>\n",
              "      <th></th>\n",
              "      <th></th>\n",
              "      <th></th>\n",
              "      <th></th>\n",
              "      <th></th>\n",
              "      <th></th>\n",
              "      <th></th>\n",
              "      <th></th>\n",
              "      <th></th>\n",
              "      <th></th>\n",
              "      <th></th>\n",
              "      <th></th>\n",
              "    </tr>\n",
              "  </thead>\n",
              "  <tbody>\n",
              "    <tr>\n",
              "      <th>2006-07-28 14:00:00</th>\n",
              "      <td>RI-2006-33957</td>\n",
              "      <td>Zone X4</td>\n",
              "      <td>500</td>\n",
              "      <td>M</td>\n",
              "      <td>1980.0</td>\n",
              "      <td>26.0</td>\n",
              "      <td>W</td>\n",
              "      <td>White</td>\n",
              "      <td>Other Traffic Violation</td>\n",
              "      <td>Moving violation</td>\n",
              "      <td>False</td>\n",
              "      <td>NaN</td>\n",
              "      <td>NaN</td>\n",
              "      <td>False</td>\n",
              "      <td>Citation</td>\n",
              "      <td>False</td>\n",
              "      <td>0-15 Min</td>\n",
              "      <td>False</td>\n",
              "      <td>False</td>\n",
              "      <td>Zone X4</td>\n",
              "    </tr>\n",
              "    <tr>\n",
              "      <th>2005-11-27 09:28:00</th>\n",
              "      <td>RI-2005-09238</td>\n",
              "      <td>Zone K1</td>\n",
              "      <td>600</td>\n",
              "      <td>M</td>\n",
              "      <td>1985.0</td>\n",
              "      <td>20.0</td>\n",
              "      <td>W</td>\n",
              "      <td>White</td>\n",
              "      <td>Speeding</td>\n",
              "      <td>Speeding</td>\n",
              "      <td>False</td>\n",
              "      <td>NaN</td>\n",
              "      <td>NaN</td>\n",
              "      <td>False</td>\n",
              "      <td>Citation</td>\n",
              "      <td>False</td>\n",
              "      <td>0-15 Min</td>\n",
              "      <td>True</td>\n",
              "      <td>False</td>\n",
              "      <td>Zone K1</td>\n",
              "    </tr>\n",
              "    <tr>\n",
              "      <th>2005-10-17 02:20:00</th>\n",
              "      <td>RI-2005-02277</td>\n",
              "      <td>Zone X4</td>\n",
              "      <td>500</td>\n",
              "      <td>M</td>\n",
              "      <td>1980.0</td>\n",
              "      <td>25.0</td>\n",
              "      <td>W</td>\n",
              "      <td>White</td>\n",
              "      <td>Other Traffic Violation</td>\n",
              "      <td>Moving violation</td>\n",
              "      <td>True</td>\n",
              "      <td>Terry Frisk</td>\n",
              "      <td>Protective Frisk</td>\n",
              "      <td>False</td>\n",
              "      <td>Arrest Driver</td>\n",
              "      <td>True</td>\n",
              "      <td>16-30 Min</td>\n",
              "      <td>True</td>\n",
              "      <td>False</td>\n",
              "      <td>Zone X4</td>\n",
              "    </tr>\n",
              "    <tr>\n",
              "      <th>2005-10-01 15:30:00</th>\n",
              "      <td>RI-2005-00244</td>\n",
              "      <td>Zone K1</td>\n",
              "      <td>600</td>\n",
              "      <td>M</td>\n",
              "      <td>1962.0</td>\n",
              "      <td>43.0</td>\n",
              "      <td>W</td>\n",
              "      <td>White</td>\n",
              "      <td>Speeding</td>\n",
              "      <td>Speeding</td>\n",
              "      <td>False</td>\n",
              "      <td>NaN</td>\n",
              "      <td>NaN</td>\n",
              "      <td>False</td>\n",
              "      <td>Citation</td>\n",
              "      <td>False</td>\n",
              "      <td>0-15 Min</td>\n",
              "      <td>True</td>\n",
              "      <td>False</td>\n",
              "      <td>Zone K1</td>\n",
              "    </tr>\n",
              "    <tr>\n",
              "      <th>2005-10-29 15:15:00</th>\n",
              "      <td>RI-2005-04313</td>\n",
              "      <td>Zone K2</td>\n",
              "      <td>900</td>\n",
              "      <td>M</td>\n",
              "      <td>1979.0</td>\n",
              "      <td>26.0</td>\n",
              "      <td>W</td>\n",
              "      <td>White</td>\n",
              "      <td>Speeding</td>\n",
              "      <td>Speeding</td>\n",
              "      <td>False</td>\n",
              "      <td>NaN</td>\n",
              "      <td>NaN</td>\n",
              "      <td>False</td>\n",
              "      <td>Citation</td>\n",
              "      <td>False</td>\n",
              "      <td>0-15 Min</td>\n",
              "      <td>False</td>\n",
              "      <td>False</td>\n",
              "      <td>Zone K2</td>\n",
              "    </tr>\n",
              "    <tr>\n",
              "      <th>2006-05-12 01:50:00</th>\n",
              "      <td>RI-2006-21500</td>\n",
              "      <td>Zone X4</td>\n",
              "      <td>500</td>\n",
              "      <td>M</td>\n",
              "      <td>1985.0</td>\n",
              "      <td>21.0</td>\n",
              "      <td>B</td>\n",
              "      <td>Black</td>\n",
              "      <td>Other Traffic Violation</td>\n",
              "      <td>Moving violation</td>\n",
              "      <td>True</td>\n",
              "      <td>Terry Frisk</td>\n",
              "      <td>Protective Frisk</td>\n",
              "      <td>False</td>\n",
              "      <td>Citation</td>\n",
              "      <td>False</td>\n",
              "      <td>0-15 Min</td>\n",
              "      <td>False</td>\n",
              "      <td>False</td>\n",
              "      <td>Zone X4</td>\n",
              "    </tr>\n",
              "    <tr>\n",
              "      <th>2005-12-18 01:30:00</th>\n",
              "      <td>RI-2005-12284</td>\n",
              "      <td>Zone K1</td>\n",
              "      <td>600</td>\n",
              "      <td>M</td>\n",
              "      <td>1950.0</td>\n",
              "      <td>55.0</td>\n",
              "      <td>W</td>\n",
              "      <td>White</td>\n",
              "      <td>Other Traffic Violation</td>\n",
              "      <td>Moving violation</td>\n",
              "      <td>False</td>\n",
              "      <td>NaN</td>\n",
              "      <td>NaN</td>\n",
              "      <td>False</td>\n",
              "      <td>Citation</td>\n",
              "      <td>False</td>\n",
              "      <td>0-15 Min</td>\n",
              "      <td>True</td>\n",
              "      <td>False</td>\n",
              "      <td>Zone K1</td>\n",
              "    </tr>\n",
              "    <tr>\n",
              "      <th>2006-05-03 06:25:00</th>\n",
              "      <td>RI-2006-20226</td>\n",
              "      <td>Zone K3</td>\n",
              "      <td>300</td>\n",
              "      <td>M</td>\n",
              "      <td>1963.0</td>\n",
              "      <td>43.0</td>\n",
              "      <td>W</td>\n",
              "      <td>White</td>\n",
              "      <td>Speeding</td>\n",
              "      <td>Speeding</td>\n",
              "      <td>False</td>\n",
              "      <td>NaN</td>\n",
              "      <td>NaN</td>\n",
              "      <td>False</td>\n",
              "      <td>Citation</td>\n",
              "      <td>False</td>\n",
              "      <td>0-15 Min</td>\n",
              "      <td>True</td>\n",
              "      <td>False</td>\n",
              "      <td>Zone K3</td>\n",
              "    </tr>\n",
              "  </tbody>\n",
              "</table>\n",
              "</div>"
            ],
            "text/plain": [
              "                                id location_raw  ... drugs_related_stop district\n",
              "stop_datetime                                    ...                            \n",
              "2006-07-28 14:00:00  RI-2006-33957      Zone X4  ...              False  Zone X4\n",
              "2005-11-27 09:28:00  RI-2005-09238      Zone K1  ...              False  Zone K1\n",
              "2005-10-17 02:20:00  RI-2005-02277      Zone X4  ...              False  Zone X4\n",
              "2005-10-01 15:30:00  RI-2005-00244      Zone K1  ...              False  Zone K1\n",
              "2005-10-29 15:15:00  RI-2005-04313      Zone K2  ...              False  Zone K2\n",
              "2006-05-12 01:50:00  RI-2006-21500      Zone X4  ...              False  Zone X4\n",
              "2005-12-18 01:30:00  RI-2005-12284      Zone K1  ...              False  Zone K1\n",
              "2006-05-03 06:25:00  RI-2006-20226      Zone K3  ...              False  Zone K3\n",
              "\n",
              "[8 rows x 20 columns]"
            ]
          },
          "metadata": {
            "tags": []
          },
          "execution_count": 24
        }
      ]
    },
    {
      "cell_type": "markdown",
      "metadata": {
        "id": "YfnU36BWeEKo"
      },
      "source": [
        "***"
      ]
    },
    {
      "cell_type": "code",
      "metadata": {
        "colab": {
          "base_uri": "https://localhost:8080/"
        },
        "id": "X7JidyQMmw_N",
        "outputId": "04ac5d5b-984e-4a82-85b1-13ea42d82524"
      },
      "source": [
        "(riwomen.violation.count()/ri.violation.count())*100"
      ],
      "execution_count": null,
      "outputs": [
        {
          "output_type": "execute_result",
          "data": {
            "text/plain": [
              "27.72130806082066"
            ]
          },
          "metadata": {
            "tags": []
          },
          "execution_count": 42
        }
      ]
    },
    {
      "cell_type": "code",
      "metadata": {
        "colab": {
          "base_uri": "https://localhost:8080/"
        },
        "id": "oNnnDn639M8r",
        "outputId": "cd9121ae-6aa4-468a-ddef-85f1f78cc5dc"
      },
      "source": [
        "riwomen.violation.value_counts(normalize=True)"
      ],
      "execution_count": 26,
      "outputs": [
        {
          "output_type": "execute_result",
          "data": {
            "text/plain": [
              "Speeding               0.811180\n",
              "Moving violation       0.099031\n",
              "Equipment              0.045608\n",
              "Registration/plates    0.027575\n",
              "Other                  0.016605\n",
              "Name: violation, dtype: float64"
            ]
          },
          "metadata": {
            "tags": []
          },
          "execution_count": 26
        }
      ]
    },
    {
      "cell_type": "code",
      "metadata": {
        "colab": {
          "base_uri": "https://localhost:8080/"
        },
        "id": "AcGE-6Je86Vh",
        "outputId": "1b3c1904-c67a-4dd4-b8c6-3896b9fb78ea"
      },
      "source": [
        "rimen.violation.value_counts(normalize=True)"
      ],
      "execution_count": 25,
      "outputs": [
        {
          "output_type": "execute_result",
          "data": {
            "text/plain": [
              "Speeding               0.729518\n",
              "Moving violation       0.149967\n",
              "Equipment              0.069595\n",
              "Registration/plates    0.031584\n",
              "Other                  0.019337\n",
              "Name: violation, dtype: float64"
            ]
          },
          "metadata": {
            "tags": []
          },
          "execution_count": 25
        }
      ]
    },
    {
      "cell_type": "markdown",
      "metadata": {
        "id": "7s0SyoeAeEKp"
      },
      "source": [
        "## Comparing speeding outcomes by gender"
      ]
    },
    {
      "cell_type": "code",
      "metadata": {
        "colab": {
          "base_uri": "https://localhost:8080/"
        },
        "id": "k-i1Ds9Qm0U1",
        "outputId": "630ba68b-1629-4051-d52f-e42439d72b0c"
      },
      "source": [
        "(rimen.violation.count()/ri.violation.count())*100"
      ],
      "execution_count": null,
      "outputs": [
        {
          "output_type": "execute_result",
          "data": {
            "text/plain": [
              "72.27869193917934"
            ]
          },
          "metadata": {
            "tags": []
          },
          "execution_count": 43
        }
      ]
    },
    {
      "cell_type": "markdown",
      "metadata": {
        "id": "BIWdxK0-eEKq"
      },
      "source": [
        "When a driver is pulled over for speeding, many people believe that gender has an impact on whether the driver will receive a ticket or a warning. Can you find evidence of this in the dataset?\n",
        "\n",
        "First, you'll create two ``DataFrames`` of drivers who were stopped for ``speeding``: one containing ***females*** and the other containing ***males***.\n",
        "\n",
        "Then, for each **gender**, you'll use the ``stop_outcome`` column to calculate what percentage of stops resulted in a ``\"Citation\"`` (meaning a ticket) versus a ``\"Warning\"``."
      ]
    },
    {
      "cell_type": "markdown",
      "metadata": {
        "id": "QD8cfxdveEKr"
      },
      "source": [
        "**INSTRUCTIONS**\n",
        "\n",
        "*   Create a ``DataFrame``, ``female_and_speeding``, that only includes female drivers who were stopped for speeding.\n",
        "*   Create a ``DataFrame``, ``male_and_speeding``, that only includes male drivers who were stopped for speeding.\n",
        "*   Count the **stop outcomes** for the female drivers and express them as proportions.\n",
        "*   Count the **stop outcomes** for the male drivers and express them as proportions."
      ]
    },
    {
      "cell_type": "code",
      "metadata": {
        "colab": {
          "base_uri": "https://localhost:8080/",
          "height": 810
        },
        "id": "wwyoY8J3eEKs",
        "outputId": "17eb0b2c-803f-4d31-eda7-a29907d7bd93"
      },
      "source": [
        "female_and_speeding = ri[(ri[\"driver_gender\"]==\"F\") & (ri[\"violation_raw\"]==\"Speeding\")]\n",
        "female_and_speeding"
      ],
      "execution_count": 28,
      "outputs": [
        {
          "output_type": "execute_result",
          "data": {
            "text/html": [
              "<div>\n",
              "<style scoped>\n",
              "    .dataframe tbody tr th:only-of-type {\n",
              "        vertical-align: middle;\n",
              "    }\n",
              "\n",
              "    .dataframe tbody tr th {\n",
              "        vertical-align: top;\n",
              "    }\n",
              "\n",
              "    .dataframe thead th {\n",
              "        text-align: right;\n",
              "    }\n",
              "</style>\n",
              "<table border=\"1\" class=\"dataframe\">\n",
              "  <thead>\n",
              "    <tr style=\"text-align: right;\">\n",
              "      <th></th>\n",
              "      <th>id</th>\n",
              "      <th>location_raw</th>\n",
              "      <th>police_department</th>\n",
              "      <th>driver_gender</th>\n",
              "      <th>driver_age_raw</th>\n",
              "      <th>driver_age</th>\n",
              "      <th>driver_race_raw</th>\n",
              "      <th>driver_race</th>\n",
              "      <th>violation_raw</th>\n",
              "      <th>violation</th>\n",
              "      <th>search_conducted</th>\n",
              "      <th>search_type_raw</th>\n",
              "      <th>search_type</th>\n",
              "      <th>contraband_found</th>\n",
              "      <th>stop_outcome</th>\n",
              "      <th>is_arrested</th>\n",
              "      <th>stop_duration</th>\n",
              "      <th>out_of_state</th>\n",
              "      <th>drugs_related_stop</th>\n",
              "      <th>district</th>\n",
              "    </tr>\n",
              "    <tr>\n",
              "      <th>stop_datetime</th>\n",
              "      <th></th>\n",
              "      <th></th>\n",
              "      <th></th>\n",
              "      <th></th>\n",
              "      <th></th>\n",
              "      <th></th>\n",
              "      <th></th>\n",
              "      <th></th>\n",
              "      <th></th>\n",
              "      <th></th>\n",
              "      <th></th>\n",
              "      <th></th>\n",
              "      <th></th>\n",
              "      <th></th>\n",
              "      <th></th>\n",
              "      <th></th>\n",
              "      <th></th>\n",
              "      <th></th>\n",
              "      <th></th>\n",
              "      <th></th>\n",
              "    </tr>\n",
              "  </thead>\n",
              "  <tbody>\n",
              "    <tr>\n",
              "      <th>2005-02-24 01:20:00</th>\n",
              "      <td>RI-2005-00016</td>\n",
              "      <td>Zone X3</td>\n",
              "      <td>200</td>\n",
              "      <td>F</td>\n",
              "      <td>1983.0</td>\n",
              "      <td>22.0</td>\n",
              "      <td>W</td>\n",
              "      <td>White</td>\n",
              "      <td>Speeding</td>\n",
              "      <td>Speeding</td>\n",
              "      <td>False</td>\n",
              "      <td>NaN</td>\n",
              "      <td>NaN</td>\n",
              "      <td>False</td>\n",
              "      <td>Citation</td>\n",
              "      <td>False</td>\n",
              "      <td>0-15 Min</td>\n",
              "      <td>True</td>\n",
              "      <td>False</td>\n",
              "      <td>Zone X3</td>\n",
              "    </tr>\n",
              "    <tr>\n",
              "      <th>2005-03-14 10:00:00</th>\n",
              "      <td>RI-2005-00019</td>\n",
              "      <td>Zone K3</td>\n",
              "      <td>300</td>\n",
              "      <td>F</td>\n",
              "      <td>1984.0</td>\n",
              "      <td>21.0</td>\n",
              "      <td>W</td>\n",
              "      <td>White</td>\n",
              "      <td>Speeding</td>\n",
              "      <td>Speeding</td>\n",
              "      <td>False</td>\n",
              "      <td>NaN</td>\n",
              "      <td>NaN</td>\n",
              "      <td>False</td>\n",
              "      <td>Citation</td>\n",
              "      <td>False</td>\n",
              "      <td>0-15 Min</td>\n",
              "      <td>False</td>\n",
              "      <td>False</td>\n",
              "      <td>Zone K3</td>\n",
              "    </tr>\n",
              "    <tr>\n",
              "      <th>2005-03-29 23:20:00</th>\n",
              "      <td>RI-2005-00026</td>\n",
              "      <td>Zone K3</td>\n",
              "      <td>300</td>\n",
              "      <td>F</td>\n",
              "      <td>1971.0</td>\n",
              "      <td>34.0</td>\n",
              "      <td>W</td>\n",
              "      <td>White</td>\n",
              "      <td>Speeding</td>\n",
              "      <td>Speeding</td>\n",
              "      <td>False</td>\n",
              "      <td>NaN</td>\n",
              "      <td>NaN</td>\n",
              "      <td>False</td>\n",
              "      <td>Citation</td>\n",
              "      <td>False</td>\n",
              "      <td>0-15 Min</td>\n",
              "      <td>True</td>\n",
              "      <td>False</td>\n",
              "      <td>Zone K3</td>\n",
              "    </tr>\n",
              "    <tr>\n",
              "      <th>2005-06-06 13:20:00</th>\n",
              "      <td>RI-2005-00035</td>\n",
              "      <td>Zone X4</td>\n",
              "      <td>500</td>\n",
              "      <td>F</td>\n",
              "      <td>1986.0</td>\n",
              "      <td>19.0</td>\n",
              "      <td>W</td>\n",
              "      <td>White</td>\n",
              "      <td>Speeding</td>\n",
              "      <td>Speeding</td>\n",
              "      <td>False</td>\n",
              "      <td>NaN</td>\n",
              "      <td>NaN</td>\n",
              "      <td>False</td>\n",
              "      <td>Citation</td>\n",
              "      <td>False</td>\n",
              "      <td>0-15 Min</td>\n",
              "      <td>False</td>\n",
              "      <td>False</td>\n",
              "      <td>Zone X4</td>\n",
              "    </tr>\n",
              "    <tr>\n",
              "      <th>2005-07-06 11:22:00</th>\n",
              "      <td>RI-2005-00038</td>\n",
              "      <td>Zone X1</td>\n",
              "      <td>0</td>\n",
              "      <td>F</td>\n",
              "      <td>1973.0</td>\n",
              "      <td>32.0</td>\n",
              "      <td>W</td>\n",
              "      <td>White</td>\n",
              "      <td>Speeding</td>\n",
              "      <td>Speeding</td>\n",
              "      <td>False</td>\n",
              "      <td>NaN</td>\n",
              "      <td>NaN</td>\n",
              "      <td>False</td>\n",
              "      <td>Citation</td>\n",
              "      <td>False</td>\n",
              "      <td>0-15 Min</td>\n",
              "      <td>False</td>\n",
              "      <td>False</td>\n",
              "      <td>Zone X1</td>\n",
              "    </tr>\n",
              "    <tr>\n",
              "      <th>...</th>\n",
              "      <td>...</td>\n",
              "      <td>...</td>\n",
              "      <td>...</td>\n",
              "      <td>...</td>\n",
              "      <td>...</td>\n",
              "      <td>...</td>\n",
              "      <td>...</td>\n",
              "      <td>...</td>\n",
              "      <td>...</td>\n",
              "      <td>...</td>\n",
              "      <td>...</td>\n",
              "      <td>...</td>\n",
              "      <td>...</td>\n",
              "      <td>...</td>\n",
              "      <td>...</td>\n",
              "      <td>...</td>\n",
              "      <td>...</td>\n",
              "      <td>...</td>\n",
              "      <td>...</td>\n",
              "      <td>...</td>\n",
              "    </tr>\n",
              "    <tr>\n",
              "      <th>2006-08-08 22:20:00</th>\n",
              "      <td>RI-2006-35911</td>\n",
              "      <td>Zone K3</td>\n",
              "      <td>300</td>\n",
              "      <td>F</td>\n",
              "      <td>1980.0</td>\n",
              "      <td>26.0</td>\n",
              "      <td>W</td>\n",
              "      <td>White</td>\n",
              "      <td>Speeding</td>\n",
              "      <td>Speeding</td>\n",
              "      <td>False</td>\n",
              "      <td>NaN</td>\n",
              "      <td>NaN</td>\n",
              "      <td>False</td>\n",
              "      <td>Citation</td>\n",
              "      <td>False</td>\n",
              "      <td>0-15 Min</td>\n",
              "      <td>True</td>\n",
              "      <td>False</td>\n",
              "      <td>Zone K3</td>\n",
              "    </tr>\n",
              "    <tr>\n",
              "      <th>2006-08-08 22:25:00</th>\n",
              "      <td>RI-2006-35913</td>\n",
              "      <td>Zone K3</td>\n",
              "      <td>300</td>\n",
              "      <td>F</td>\n",
              "      <td>1987.0</td>\n",
              "      <td>19.0</td>\n",
              "      <td>W</td>\n",
              "      <td>White</td>\n",
              "      <td>Speeding</td>\n",
              "      <td>Speeding</td>\n",
              "      <td>False</td>\n",
              "      <td>NaN</td>\n",
              "      <td>NaN</td>\n",
              "      <td>False</td>\n",
              "      <td>Citation</td>\n",
              "      <td>False</td>\n",
              "      <td>0-15 Min</td>\n",
              "      <td>True</td>\n",
              "      <td>False</td>\n",
              "      <td>Zone K3</td>\n",
              "    </tr>\n",
              "    <tr>\n",
              "      <th>2006-08-08 22:45:00</th>\n",
              "      <td>RI-2006-35916</td>\n",
              "      <td>Zone K1</td>\n",
              "      <td>600</td>\n",
              "      <td>F</td>\n",
              "      <td>1978.0</td>\n",
              "      <td>28.0</td>\n",
              "      <td>B</td>\n",
              "      <td>Black</td>\n",
              "      <td>Speeding</td>\n",
              "      <td>Speeding</td>\n",
              "      <td>False</td>\n",
              "      <td>NaN</td>\n",
              "      <td>NaN</td>\n",
              "      <td>False</td>\n",
              "      <td>Citation</td>\n",
              "      <td>False</td>\n",
              "      <td>0-15 Min</td>\n",
              "      <td>True</td>\n",
              "      <td>False</td>\n",
              "      <td>Zone K1</td>\n",
              "    </tr>\n",
              "    <tr>\n",
              "      <th>2006-08-08 22:45:00</th>\n",
              "      <td>RI-2006-35918</td>\n",
              "      <td>Zone K3</td>\n",
              "      <td>300</td>\n",
              "      <td>F</td>\n",
              "      <td>1971.0</td>\n",
              "      <td>35.0</td>\n",
              "      <td>B</td>\n",
              "      <td>Black</td>\n",
              "      <td>Speeding</td>\n",
              "      <td>Speeding</td>\n",
              "      <td>False</td>\n",
              "      <td>NaN</td>\n",
              "      <td>NaN</td>\n",
              "      <td>False</td>\n",
              "      <td>Citation</td>\n",
              "      <td>False</td>\n",
              "      <td>0-15 Min</td>\n",
              "      <td>True</td>\n",
              "      <td>False</td>\n",
              "      <td>Zone K3</td>\n",
              "    </tr>\n",
              "    <tr>\n",
              "      <th>2006-08-08 23:00:00</th>\n",
              "      <td>RI-2006-35920</td>\n",
              "      <td>Zone K1</td>\n",
              "      <td>600</td>\n",
              "      <td>F</td>\n",
              "      <td>1982.0</td>\n",
              "      <td>24.0</td>\n",
              "      <td>W</td>\n",
              "      <td>White</td>\n",
              "      <td>Speeding</td>\n",
              "      <td>Speeding</td>\n",
              "      <td>False</td>\n",
              "      <td>NaN</td>\n",
              "      <td>NaN</td>\n",
              "      <td>False</td>\n",
              "      <td>Citation</td>\n",
              "      <td>False</td>\n",
              "      <td>0-15 Min</td>\n",
              "      <td>False</td>\n",
              "      <td>False</td>\n",
              "      <td>Zone K1</td>\n",
              "    </tr>\n",
              "  </tbody>\n",
              "</table>\n",
              "<p>10796 rows × 20 columns</p>\n",
              "</div>"
            ],
            "text/plain": [
              "                                id location_raw  ... drugs_related_stop district\n",
              "stop_datetime                                    ...                            \n",
              "2005-02-24 01:20:00  RI-2005-00016      Zone X3  ...              False  Zone X3\n",
              "2005-03-14 10:00:00  RI-2005-00019      Zone K3  ...              False  Zone K3\n",
              "2005-03-29 23:20:00  RI-2005-00026      Zone K3  ...              False  Zone K3\n",
              "2005-06-06 13:20:00  RI-2005-00035      Zone X4  ...              False  Zone X4\n",
              "2005-07-06 11:22:00  RI-2005-00038      Zone X1  ...              False  Zone X1\n",
              "...                            ...          ...  ...                ...      ...\n",
              "2006-08-08 22:20:00  RI-2006-35911      Zone K3  ...              False  Zone K3\n",
              "2006-08-08 22:25:00  RI-2006-35913      Zone K3  ...              False  Zone K3\n",
              "2006-08-08 22:45:00  RI-2006-35916      Zone K1  ...              False  Zone K1\n",
              "2006-08-08 22:45:00  RI-2006-35918      Zone K3  ...              False  Zone K3\n",
              "2006-08-08 23:00:00  RI-2006-35920      Zone K1  ...              False  Zone K1\n",
              "\n",
              "[10796 rows x 20 columns]"
            ]
          },
          "metadata": {
            "tags": []
          },
          "execution_count": 28
        }
      ]
    },
    {
      "cell_type": "code",
      "metadata": {
        "id": "sCrOt1WVnsjg"
      },
      "source": [
        "male_and_speeding = ri[(ri[\"driver_gender\"]==\"M\") & (ri[\"violation_raw\"]==\"Speeding\")]\n"
      ],
      "execution_count": 27,
      "outputs": []
    },
    {
      "cell_type": "code",
      "metadata": {
        "colab": {
          "base_uri": "https://localhost:8080/"
        },
        "id": "JcHbi5bmn0vW",
        "outputId": "ef92d7df-e95b-4fdf-c6a4-e6fa72d34513"
      },
      "source": [
        "female_and_speeding.stop_outcome.value_counts(normalize=True)"
      ],
      "execution_count": 29,
      "outputs": [
        {
          "output_type": "execute_result",
          "data": {
            "text/plain": [
              "Citation            0.973416\n",
              "Warning             0.012968\n",
              "Arrest Driver       0.007410\n",
              "N/D                 0.003612\n",
              "Arrest Passenger    0.002316\n",
              "No Action           0.000278\n",
              "Name: stop_outcome, dtype: float64"
            ]
          },
          "metadata": {
            "tags": []
          },
          "execution_count": 29
        }
      ]
    },
    {
      "cell_type": "markdown",
      "metadata": {
        "id": "SorzSKQCeEKs"
      },
      "source": [
        "***"
      ]
    },
    {
      "cell_type": "code",
      "metadata": {
        "colab": {
          "base_uri": "https://localhost:8080/"
        },
        "id": "ixvlKxyLoDMO",
        "outputId": "4b66dfd4-344a-4ed6-c1e1-55c4aaeaaf11"
      },
      "source": [
        "male_and_speeding.stop_outcome.value_counts(normalize=True)\n"
      ],
      "execution_count": 30,
      "outputs": [
        {
          "output_type": "execute_result",
          "data": {
            "text/plain": [
              "Citation            0.957298\n",
              "Arrest Driver       0.026230\n",
              "Warning             0.010666\n",
              "N/D                 0.003397\n",
              "Arrest Passenger    0.002015\n",
              "No Action           0.000395\n",
              "Name: stop_outcome, dtype: float64"
            ]
          },
          "metadata": {
            "tags": []
          },
          "execution_count": 30
        }
      ]
    },
    {
      "cell_type": "code",
      "metadata": {
        "colab": {
          "base_uri": "https://localhost:8080/"
        },
        "id": "EHbLq5o8oWsS",
        "outputId": "7c605a08-819f-42c8-b607-c56c60b3dc8e"
      },
      "source": [
        "ri.stop_outcome.count()"
      ],
      "execution_count": null,
      "outputs": [
        {
          "output_type": "execute_result",
          "data": {
            "text/plain": [
              "48010"
            ]
          },
          "metadata": {
            "tags": []
          },
          "execution_count": 54
        }
      ]
    },
    {
      "cell_type": "markdown",
      "metadata": {
        "id": "R_iZ-1U7eEKt"
      },
      "source": [
        "## Calculating the search rate"
      ]
    },
    {
      "cell_type": "markdown",
      "metadata": {
        "id": "DUeZ_vLHeEKt"
      },
      "source": [
        "During a traffic stop, the police officer sometimes conducts a search of the vehicle. In this exercise, you'll calculate the percentage of all stops that result in a vehicle search, also known as the **search rate**."
      ]
    },
    {
      "cell_type": "markdown",
      "metadata": {
        "id": "rtzH1vIaeEKu"
      },
      "source": [
        "**INSTRUCTIONS**\n",
        "\n",
        "*   Check the data type of ``search_conducted`` to confirm that it's a ``Boolean Series``.\n",
        "*   Calculate the search rate by counting the ``Series`` values and expressing them as proportions.\n",
        "*   Calculate the search rate by taking the mean of the ``Series``. (It should match the proportion of ``True`` values calculated above.)"
      ]
    },
    {
      "cell_type": "code",
      "metadata": {
        "colab": {
          "base_uri": "https://localhost:8080/"
        },
        "id": "54Jw7zj-eEKv",
        "outputId": "eb8fa3fa-29ac-43d2-bb1c-2ee618bc9cde"
      },
      "source": [
        "ri.search_conducted.value_counts(normalize=True)"
      ],
      "execution_count": 39,
      "outputs": [
        {
          "output_type": "execute_result",
          "data": {
            "text/plain": [
              "False    0.958092\n",
              "True     0.041908\n",
              "Name: search_conducted, dtype: float64"
            ]
          },
          "metadata": {
            "tags": []
          },
          "execution_count": 39
        }
      ]
    },
    {
      "cell_type": "code",
      "metadata": {
        "id": "Dz0lNTN_w0fK"
      },
      "source": [
        "s1 = ri[ri[\"search_conducted\"]==True].search_conducted.value_counts()"
      ],
      "execution_count": 32,
      "outputs": []
    },
    {
      "cell_type": "code",
      "metadata": {
        "id": "FoxYi33VyyPT"
      },
      "source": [
        "s2 = ri[ri[\"search_conducted\"]==False].search_conducted.value_counts()\n"
      ],
      "execution_count": 33,
      "outputs": []
    },
    {
      "cell_type": "code",
      "metadata": {
        "colab": {
          "base_uri": "https://localhost:8080/"
        },
        "id": "a8HwGIo1y3hW",
        "outputId": "7aa6e353-4121-453f-f4fc-2535e7319a8c"
      },
      "source": [
        "s2"
      ],
      "execution_count": 35,
      "outputs": [
        {
          "output_type": "execute_result",
          "data": {
            "text/plain": [
              "False    45998\n",
              "Name: search_conducted, dtype: int64"
            ]
          },
          "metadata": {
            "tags": []
          },
          "execution_count": 35
        }
      ]
    },
    {
      "cell_type": "markdown",
      "metadata": {
        "id": "B6QkR_6DeEKv"
      },
      "source": [
        "***"
      ]
    },
    {
      "cell_type": "code",
      "metadata": {
        "colab": {
          "base_uri": "https://localhost:8080/"
        },
        "id": "aw_DoM4ny6py",
        "outputId": "82eabbaa-e6ae-452a-d189-ef3477254e1c"
      },
      "source": [
        "s1"
      ],
      "execution_count": 37,
      "outputs": [
        {
          "output_type": "execute_result",
          "data": {
            "text/plain": [
              "True    2012\n",
              "Name: search_conducted, dtype: int64"
            ]
          },
          "metadata": {
            "tags": []
          },
          "execution_count": 37
        }
      ]
    },
    {
      "cell_type": "code",
      "metadata": {
        "id": "oGLkH3Vy1s2L",
        "colab": {
          "base_uri": "https://localhost:8080/"
        },
        "outputId": "12eb0547-c7ff-4764-8d45-2226411aba92"
      },
      "source": [
        ""
      ],
      "execution_count": 38,
      "outputs": [
        {
          "output_type": "execute_result",
          "data": {
            "text/plain": [
              "False    1.0\n",
              "Name: search_conducted, dtype: float64"
            ]
          },
          "metadata": {
            "tags": []
          },
          "execution_count": 38
        }
      ]
    },
    {
      "cell_type": "markdown",
      "metadata": {
        "id": "R0oOOKd0eEKw"
      },
      "source": [
        "## Comparing search rates by gender"
      ]
    },
    {
      "cell_type": "markdown",
      "metadata": {
        "id": "89ZhAsuPeEKw"
      },
      "source": [
        "You'll compare the rates at which **female** and **male** drivers are searched during a traffic stop. Remember that the vehicle search rate across all stops is about **3.8%**.\n",
        "\n",
        "First, you'll filter the ``DataFrame`` by gender and calculate the search rate for each group separately. Then, you'll perform the same calculation for both genders at once using a ``.groupby()``."
      ]
    },
    {
      "cell_type": "markdown",
      "metadata": {
        "id": "PEqQ3l4reEKx"
      },
      "source": [
        "**INSTRUCTIONS 1/3**\n",
        "\n",
        "*   Filter the ``DataFrame`` to only include **female** drivers, and then calculate the search rate by taking the mean of ``search_conducted``."
      ]
    },
    {
      "cell_type": "code",
      "metadata": {
        "id": "RTb_6O9_eEKz",
        "colab": {
          "base_uri": "https://localhost:8080/"
        },
        "outputId": "b3c4f8b3-e724-49ba-aa71-6bf78795a868"
      },
      "source": [
        "riwomen.search_conducted.mean() #bool olduğu için trueların oranını veriyor."
      ],
      "execution_count": 40,
      "outputs": [
        {
          "output_type": "execute_result",
          "data": {
            "text/plain": [
              "0.017807498685100308"
            ]
          },
          "metadata": {
            "tags": []
          },
          "execution_count": 40
        }
      ]
    },
    {
      "cell_type": "markdown",
      "metadata": {
        "id": "lbfLAduyeEKz"
      },
      "source": [
        "**INSTRUCTIONS 2/3**\n",
        "\n",
        "*   Filter the ``DataFrame`` to only include **male** drivers, and then repeat the search rate calculation."
      ]
    },
    {
      "cell_type": "code",
      "metadata": {
        "id": "E3bS_F-veEK0",
        "colab": {
          "base_uri": "https://localhost:8080/"
        },
        "outputId": "7cd8ea73-3bc4-4d2b-f24e-7c384aabab4a"
      },
      "source": [
        "rimen.search_conducted.mean()"
      ],
      "execution_count": 41,
      "outputs": [
        {
          "output_type": "execute_result",
          "data": {
            "text/plain": [
              "0.05115126365234431"
            ]
          },
          "metadata": {
            "tags": []
          },
          "execution_count": 41
        }
      ]
    },
    {
      "cell_type": "markdown",
      "metadata": {
        "id": "RQ8MqxCteEK1"
      },
      "source": [
        "**INSTRUCTIONS 3/3**\n",
        "\n",
        "*   Group by driver gender to calculate the search rate for both groups simultaneously. (It should match the previous results.)"
      ]
    },
    {
      "cell_type": "code",
      "metadata": {
        "id": "zrAAv8dueEK2",
        "colab": {
          "base_uri": "https://localhost:8080/"
        },
        "outputId": "96e74d73-d810-4218-f12d-1f4e7002c843"
      },
      "source": [
        "ri.groupby(by=ri.driver_gender)[\"search_conducted\"].value_counts(normalize=True)"
      ],
      "execution_count": 43,
      "outputs": [
        {
          "output_type": "execute_result",
          "data": {
            "text/plain": [
              "driver_gender  search_conducted\n",
              "F              False               0.982193\n",
              "               True                0.017807\n",
              "M              False               0.948849\n",
              "               True                0.051151\n",
              "Name: search_conducted, dtype: float64"
            ]
          },
          "metadata": {
            "tags": []
          },
          "execution_count": 43
        }
      ]
    },
    {
      "cell_type": "code",
      "metadata": {
        "colab": {
          "base_uri": "https://localhost:8080/"
        },
        "id": "1dboBgoxBgvb",
        "outputId": "fd9b9c81-7f1a-486e-9d96-98809fc935c5"
      },
      "source": [
        "ri.groupby(by=ri.driver_gender)[\"search_conducted\"].mean() # sadece trueların oranını verir\n"
      ],
      "execution_count": 44,
      "outputs": [
        {
          "output_type": "execute_result",
          "data": {
            "text/plain": [
              "driver_gender\n",
              "F    0.017807\n",
              "M    0.051151\n",
              "Name: search_conducted, dtype: float64"
            ]
          },
          "metadata": {
            "tags": []
          },
          "execution_count": 44
        }
      ]
    },
    {
      "cell_type": "markdown",
      "metadata": {
        "id": "d8F-w3nMeEK2"
      },
      "source": [
        "***"
      ]
    },
    {
      "cell_type": "markdown",
      "metadata": {
        "id": "enKV8XdieEK2"
      },
      "source": [
        "## Adding a second factor to the analysis"
      ]
    },
    {
      "cell_type": "markdown",
      "metadata": {
        "id": "6jIf6tSaeEK3"
      },
      "source": [
        "Even though the search rate for males is much higher than for females, it's possible that the difference is mostly due to a second factor.\n",
        "\n",
        "For example, you might hypothesize that the search rate varies by violation type, and the difference in search rate between males and females is because they tend to commit different violations.\n",
        "\n",
        "You can test this hypothesis by examining the search rate for each combination of gender and violation. If the hypothesis was true, you would find that males and females are searched at about the same rate for each violation. Find out below if that's the case!"
      ]
    },
    {
      "cell_type": "markdown",
      "metadata": {
        "id": "8NhA40xyeEK4"
      },
      "source": [
        "**INSTRUCTIONS 1/2**\n",
        "\n",
        "*   Use a ``.groupby()`` to calculate the search rate for each combination of gender and violation. Are males and females searched at about the same rate for each violation?"
      ]
    },
    {
      "cell_type": "code",
      "metadata": {
        "id": "dYhZrqbreEK4",
        "colab": {
          "base_uri": "https://localhost:8080/"
        },
        "outputId": "1778028c-2608-49b0-9a99-492ed5148077"
      },
      "source": [
        "ri.groupby([ri.driver_gender, ri.violation])[\"search_conducted\"].value_counts(normalize=True)"
      ],
      "execution_count": 51,
      "outputs": [
        {
          "output_type": "execute_result",
          "data": {
            "text/plain": [
              "driver_gender  violation            search_conducted\n",
              "F              Equipment            False               0.920923\n",
              "                                    True                0.079077\n",
              "               Moving violation     False               0.952200\n",
              "                                    True                0.047800\n",
              "               Other                False               0.954751\n",
              "                                    True                0.045249\n",
              "               Registration/plates  False               0.885559\n",
              "                                    True                0.114441\n",
              "               Speeding             False               0.993146\n",
              "                                    True                0.006854\n",
              "M              Equipment            False               0.876605\n",
              "                                    True                0.123395\n",
              "               Moving violation     False               0.911222\n",
              "                                    True                0.088778\n",
              "               Other                False               0.845007\n",
              "                                    True                0.154993\n",
              "               Registration/plates  False               0.828467\n",
              "                                    True                0.171533\n",
              "               Speeding             False               0.971440\n",
              "                                    True                0.028560\n",
              "Name: search_conducted, dtype: float64"
            ]
          },
          "metadata": {
            "tags": []
          },
          "execution_count": 51
        }
      ]
    },
    {
      "cell_type": "markdown",
      "metadata": {
        "id": "m-GVTzo0eEK4"
      },
      "source": [
        "**INSTRUCTIONS 2/2**\n",
        "\n",
        "*   Reverse the ordering to group by violation before gender. The results may be easier to compare when presented this way."
      ]
    },
    {
      "cell_type": "code",
      "metadata": {
        "id": "uuKzZXv_eEK5",
        "colab": {
          "base_uri": "https://localhost:8080/"
        },
        "outputId": "8e1487be-afb9-4341-98c5-dedff4aaeb16"
      },
      "source": [
        "ri.groupby([ri.violation, ri.driver_gender])[\"search_conducted\"].mean()\n"
      ],
      "execution_count": 53,
      "outputs": [
        {
          "output_type": "execute_result",
          "data": {
            "text/plain": [
              "violation            driver_gender\n",
              "Equipment            F                0.079077\n",
              "                     M                0.123395\n",
              "Moving violation     F                0.047800\n",
              "                     M                0.088778\n",
              "Other                F                0.045249\n",
              "                     M                0.154993\n",
              "Registration/plates  F                0.114441\n",
              "                     M                0.171533\n",
              "Speeding             F                0.006854\n",
              "                     M                0.028560\n",
              "Name: search_conducted, dtype: float64"
            ]
          },
          "metadata": {
            "tags": []
          },
          "execution_count": 53
        }
      ]
    },
    {
      "cell_type": "markdown",
      "metadata": {
        "id": "y8WdZc3jeEK5"
      },
      "source": [
        "***"
      ]
    },
    {
      "cell_type": "markdown",
      "metadata": {
        "id": "K8TKSzkLeEK6"
      },
      "source": [
        "## Counting protective frisks"
      ]
    },
    {
      "cell_type": "markdown",
      "metadata": {
        "id": "HJmvzPjeeEK6"
      },
      "source": [
        "During a vehicle search, the police officer may pat down the driver to check if they have a weapon. This is known as a ``\"protective frisk.\"``\n",
        "\n",
        "You'll first check to see how many times \"Protective Frisk\" was the only search type. Then, you'll use a string method to locate all instances in which the driver was frisked."
      ]
    },
    {
      "cell_type": "markdown",
      "metadata": {
        "id": "GVlkw7-ueEK7"
      },
      "source": [
        "**INSTRUCTIONS**\n",
        "\n",
        "*   Count the ``search_type`` values to see how many times ``\"Protective Frisk\"`` was the only search type.\n",
        "*   Create a new column, frisk, that is ``True`` if ``search_type`` contains the string ``\"Protective Frisk\"`` and ``False`` otherwise.\n",
        "*   Check the data type of frisk to confirm that it's a ``Boolean Series``.\n",
        "*   Take the sum of frisk to count the total number of frisks."
      ]
    },
    {
      "cell_type": "code",
      "metadata": {
        "id": "tIoa4KbreEK8"
      },
      "source": [
        ""
      ],
      "execution_count": null,
      "outputs": []
    },
    {
      "cell_type": "markdown",
      "metadata": {
        "id": "ypy3ronLeEK8"
      },
      "source": [
        "***"
      ]
    },
    {
      "cell_type": "markdown",
      "metadata": {
        "id": "E1qu5vwaeEK9"
      },
      "source": [
        "## Comparing frisk rates by gender"
      ]
    },
    {
      "cell_type": "markdown",
      "metadata": {
        "id": "ULjo1QaJeEK9"
      },
      "source": [
        "You'll compare the rates at which female and male drivers are frisked during a search. Are males frisked more often than females, perhaps because police officers consider them to be higher risk?\n",
        "\n",
        "Before doing any calculations, it's important to filter the ``DataFrame`` to only include the relevant subset of data, namely stops in which a search was conducted."
      ]
    },
    {
      "cell_type": "markdown",
      "metadata": {
        "id": "_AadL7V_eEK-"
      },
      "source": [
        "**INSTRUCTIONS**\n",
        "\n",
        "*   Create a ``DataFrame``, searched, that only contains rows in which ``search_conducted`` is ``True``.\n",
        "*   Take the mean of the frisk column to find out what percentage of searches included a frisk.\n",
        "*   Calculate the frisk rate for each gender using a ``.groupby()``."
      ]
    },
    {
      "cell_type": "code",
      "metadata": {
        "id": "VrA-O2H2eEK_"
      },
      "source": [
        ""
      ],
      "execution_count": null,
      "outputs": []
    }
  ]
}