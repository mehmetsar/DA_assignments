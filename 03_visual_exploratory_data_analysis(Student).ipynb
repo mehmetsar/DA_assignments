{
  "nbformat": 4,
  "nbformat_minor": 0,
  "metadata": {
    "kernelspec": {
      "display_name": "Python 3",
      "language": "python",
      "name": "python3"
    },
    "language_info": {
      "codemirror_mode": {
        "name": "ipython",
        "version": 3
      },
      "file_extension": ".py",
      "mimetype": "text/x-python",
      "name": "python",
      "nbconvert_exporter": "python",
      "pygments_lexer": "ipython3",
      "version": "3.7.3"
    },
    "colab": {
      "name": "03-visual-exploratory-data-analysis(Student).ipynb",
      "provenance": [],
      "include_colab_link": true
    }
  },
  "cells": [
    {
      "cell_type": "markdown",
      "metadata": {
        "id": "view-in-github",
        "colab_type": "text"
      },
      "source": [
        "<a href=\"https://colab.research.google.com/github/mehmetsar/DA_assignments/blob/main/03_visual_exploratory_data_analysis(Student).ipynb\" target=\"_parent\"><img src=\"https://colab.research.google.com/assets/colab-badge.svg\" alt=\"Open In Colab\"/></a>"
      ]
    },
    {
      "cell_type": "markdown",
      "metadata": {
        "id": "P6PWZDKHOSA-"
      },
      "source": [
        "___\n",
        "\n",
        "<p style=\"text-align: center;\"><img src=\"https://docs.google.com/uc?id=1lY0Uj5R04yMY3-ZppPWxqCr5pvBLYPnV\" class=\"img-fluid\" alt=\"CLRSWY\"></p>\n",
        "\n",
        "___"
      ]
    },
    {
      "cell_type": "markdown",
      "metadata": {
        "id": "apROkiNOOSBF"
      },
      "source": [
        "<h1><p style=\"text-align: center;\">Data Analysis with Python <br>Project - 1</p><h1> - Traffic Police Stops <img src=\"https://docs.google.com/uc?id=17CPCwi3_VvzcS87TOsh4_U8eExOhL6Ki\" class=\"img-fluid\" alt=\"CLRSWY\" width=\"200\" height=\"100\"> "
      ]
    },
    {
      "cell_type": "markdown",
      "metadata": {
        "id": "ai8XnQY1OSBG"
      },
      "source": [
        "Are you more likely to get arrested at a certain time of day? Are drug-related stops on the rise? In this chapter, you will answer these and other questions by analyzing the dataset visually, since plots can help you to understand trends in a way that examining the raw data cannot."
      ]
    },
    {
      "cell_type": "code",
      "metadata": {
        "colab": {
          "base_uri": "https://localhost:8080/"
        },
        "id": "ibxWSc6SQMIu",
        "outputId": "ba9c4e8a-504c-482f-df39-2df9be90e3ea"
      },
      "source": [
        "import pandas as pd\n",
        "ri = pd.read_csv('RI_cleaned.csv')\n",
        "drop_columns=[\"state\", \"county_name\", \"county_fips\", \"fine_grained_location\"]\n",
        "ri.drop(drop_columns, axis='columns', inplace=True)\n",
        "ri.dropna(subset=['driver_gender'], inplace=True)\n",
        "ri['is_arrested'] = ri.is_arrested.astype('bool')\n",
        "combined = ri.stop_date.str.cat(ri.stop_time, sep=' ')\n",
        "ri['stop_datetime'] = pd.to_datetime(combined)\n",
        "ri.drop([\"stop_date\", \"stop_time\"], axis='columns', inplace=True)\n",
        "ri.set_index('stop_datetime', inplace=True)"
      ],
      "execution_count": 11,
      "outputs": [
        {
          "output_type": "stream",
          "text": [
            "/usr/local/lib/python3.7/dist-packages/IPython/core/interactiveshell.py:2718: DtypeWarning: Columns (8,16) have mixed types.Specify dtype option on import or set low_memory=False.\n",
            "  interactivity=interactivity, compiler=compiler, result=result)\n"
          ],
          "name": "stderr"
        }
      ]
    },
    {
      "cell_type": "markdown",
      "metadata": {
        "id": "7s07ORu7OSBH"
      },
      "source": [
        "## Calculating the hourly arrest rate"
      ]
    },
    {
      "cell_type": "markdown",
      "metadata": {
        "id": "C_hsYY0fOSBH"
      },
      "source": [
        "When a police officer stops a driver, a small percentage of those stops ends in an arrest. This is known as the **arrest rate**. In this exercise, you'll find out whether the arrest rate varies by time of day.\n",
        "\n",
        "First, you'll calculate the arrest rate across all stops. Then, you'll calculate the **hourly arrest rate** by using the ``hour`` attribute of the ``index``. The hour ranges from ``0`` to ``23``, in which:\n",
        "\n",
        "``0 = midnight``<br>\n",
        "``12 = noon`` <br>\n",
        "``23 = 11 PM``"
      ]
    },
    {
      "cell_type": "markdown",
      "metadata": {
        "id": "JIdfqqslOSBI"
      },
      "source": [
        "> Before starting your work in this section **repeat the steps which you did in the first chapter for preparing the data.** Continue to this chapter based on where you were in the end of the first chapter."
      ]
    },
    {
      "cell_type": "markdown",
      "metadata": {
        "id": "g2cfLT8rOSBJ"
      },
      "source": [
        "**INSTRUCTIONS**\n",
        "\n",
        "*   Take the mean of the ``is_arrested`` column to calculate the overall arrest rate.\n",
        "*   Group by the ``hour`` attribute of the ``DataFrame`` index to calculate the hourly arrest rate.\n",
        "*   Save the **hourly arrest rate** ``Series`` as a new object, ``hourly_arrest_rate``."
      ]
    },
    {
      "cell_type": "code",
      "metadata": {
        "colab": {
          "base_uri": "https://localhost:8080/"
        },
        "id": "zTsQVKRZOSBK",
        "outputId": "0d024803-d7e4-4e7c-f170-87a3f7d57c45"
      },
      "source": [
        "ri.is_arrested.mean()"
      ],
      "execution_count": 12,
      "outputs": [
        {
          "output_type": "execute_result",
          "data": {
            "text/plain": [
              "0.03454755048024903"
            ]
          },
          "metadata": {
            "tags": []
          },
          "execution_count": 12
        }
      ]
    },
    {
      "cell_type": "code",
      "metadata": {
        "colab": {
          "base_uri": "https://localhost:8080/"
        },
        "id": "bMq58gI2QsIN",
        "outputId": "ee00df05-fc20-439f-d969-d24872ab2f0d"
      },
      "source": [
        "type(ri.index)"
      ],
      "execution_count": 9,
      "outputs": [
        {
          "output_type": "execute_result",
          "data": {
            "text/plain": [
              "pandas.core.indexes.datetimes.DatetimeIndex"
            ]
          },
          "metadata": {
            "tags": []
          },
          "execution_count": 9
        }
      ]
    },
    {
      "cell_type": "code",
      "metadata": {
        "colab": {
          "base_uri": "https://localhost:8080/"
        },
        "id": "lJ_FyPeAT0UZ",
        "outputId": "59a88af8-ade5-4402-c3da-0435ee6b82bb"
      },
      "source": [
        "ri.index.hour"
      ],
      "execution_count": 10,
      "outputs": [
        {
          "output_type": "execute_result",
          "data": {
            "text/plain": [
              "Int64Index([ 1, 20, 12,  1,  8,  8, 17, 23, 20,  3,\n",
              "            ...\n",
              "            22, 22, 22, 22, 22, 22, 22, 22, 23, 23],\n",
              "           dtype='int64', name='stop_datetime', length=48010)"
            ]
          },
          "metadata": {
            "tags": []
          },
          "execution_count": 10
        }
      ]
    },
    {
      "cell_type": "code",
      "metadata": {
        "id": "v8us9LcWQaUy"
      },
      "source": [
        "hourly_arrest_rate = ri.groupby(by = ri.index.hour)[\"is_arrested\"].mean()"
      ],
      "execution_count": 21,
      "outputs": []
    },
    {
      "cell_type": "markdown",
      "metadata": {
        "id": "9-4nQYzQOSBM"
      },
      "source": [
        "***"
      ]
    },
    {
      "cell_type": "code",
      "metadata": {
        "id": "TETgHZFWU3c9"
      },
      "source": [
        "import matplotlib.pyplot as plt\n"
      ],
      "execution_count": 19,
      "outputs": []
    },
    {
      "cell_type": "code",
      "metadata": {
        "colab": {
          "base_uri": "https://localhost:8080/",
          "height": 295
        },
        "id": "BJjujnH0T8RP",
        "outputId": "e2d73b6c-a826-4eff-e202-e74911369f8c"
      },
      "source": [
        ""
      ],
      "execution_count": 26,
      "outputs": [
        {
          "output_type": "display_data",
          "data": {
            "image/png": "[encoded data removed]",
            "text/plain": [
              "<Figure size 432x288 with 1 Axes>"
            ]
          },
          "metadata": {
            "tags": [],
            "needs_background": "light"
          }
        }
      ]
    },
    {
      "cell_type": "markdown",
      "metadata": {
        "id": "co1myYkoOSBN"
      },
      "source": [
        "## Plotting the hourly arrest rate"
      ]
    },
    {
      "cell_type": "markdown",
      "metadata": {
        "id": "A-xNKs_kOSBO"
      },
      "source": [
        "You'll create a line plot from the ``hourly_arrest_rate`` object. A line plot is appropriate in this case because you're showing how a quantity changes over time.\n",
        "\n",
        "This plot should help you to spot some trends that may not have been obvious when examining the raw numbers!"
      ]
    },
    {
      "cell_type": "markdown",
      "metadata": {
        "id": "awjkjKizOSBP"
      },
      "source": [
        "**INSTRUCTIONS**\n",
        "\n",
        "*   Import ``matplotlib.pyplot`` using the alias ``plt``.\n",
        "*   Create a **line plot** of ``hourly_arrest_rate`` using the ``.plot()`` method.\n",
        "*   Label the ``x-axis`` as ``'Hour'``, label the ``y-axis`` as ``'Arrest Rate'``, and title the plot ``'Arrest Rate by Time of Day'``.\n",
        "*   Display the plot using the ``.show()`` function."
      ]
    },
    {
      "cell_type": "code",
      "metadata": {
        "colab": {
          "base_uri": "https://localhost:8080/",
          "height": 295
        },
        "id": "NWcDo21oOSBQ",
        "outputId": "a682a1d5-d1f7-4c1e-fa3a-9bfcb38a2f48"
      },
      "source": [
        "hourly_arrest_rate.plot()\n",
        "plt.xlabel(\"hour\")\n",
        "plt.ylabel(\"arrest rate\")\n",
        "plt.title(\"arrest rate by hours\");"
      ],
      "execution_count": 27,
      "outputs": [
        {
          "output_type": "display_data",
          "data": {
            "image/png": "[encoded data removed]",
            "text/plain": [
              "<Figure size 432x288 with 1 Axes>"
            ]
          },
          "metadata": {
            "tags": [],
            "needs_background": "light"
          }
        }
      ]
    },
    {
      "cell_type": "markdown",
      "metadata": {
        "id": "Nh0M9S_mOSBQ"
      },
      "source": [
        "***"
      ]
    },
    {
      "cell_type": "markdown",
      "metadata": {
        "id": "Y6Em5V7xOSBQ"
      },
      "source": [
        "## Plotting drug-related stops"
      ]
    },
    {
      "cell_type": "markdown",
      "metadata": {
        "id": "9ksWETfwOSBR"
      },
      "source": [
        "In a small portion of traffic stops, drugs are found in the vehicle during a search. You'll assess whether these **drug-related stops** are becoming more common over time.\n",
        "\n",
        "The Boolean column ``drugs_related_stop`` indicates whether drugs were found during a given stop. You'll calculate the **annual drug rate** by **resampling** this column, and then you'll use a line plot to visualize how the rate has changed over time."
      ]
    },
    {
      "cell_type": "markdown",
      "metadata": {
        "id": "b8PPe2CrOSBR"
      },
      "source": [
        "**INSTRUCTIONS**\n",
        "\n",
        "*   Calculate the **annual rate** of drug-related stops by **resampling** the ``drugs_related_stop`` column (on the ``'A'`` frequency) and taking the mean.\n",
        "*   Save the annual drug rate ``Series`` as a new object, ``annual_drug_rate``.\n",
        "*   Create a line plot of ``annual_drug_rate`` using the ``.plot()`` method.\n",
        "*   Display the plot using the ``.show()`` function."
      ]
    },
    {
      "cell_type": "code",
      "metadata": {
        "colab": {
          "base_uri": "https://localhost:8080/"
        },
        "id": "5dafTddBOSBS",
        "outputId": "2b0bfda5-1217-4bf4-e633-1a89a9dfba08"
      },
      "source": [
        "ri.drugs_related_stop.value_counts()"
      ],
      "execution_count": 28,
      "outputs": [
        {
          "output_type": "execute_result",
          "data": {
            "text/plain": [
              "False    475819\n",
              "True       4765\n",
              "Name: drugs_related_stop, dtype: int64"
            ]
          },
          "metadata": {
            "tags": []
          },
          "execution_count": 28
        }
      ]
    },
    {
      "cell_type": "code",
      "metadata": {
        "id": "HtZbeij8Yt3u"
      },
      "source": [
        "annual_drug_rate = ri.drugs_related_stop.resample(\"A\").mean() # A annual demek"
      ],
      "execution_count": 30,
      "outputs": []
    },
    {
      "cell_type": "code",
      "metadata": {
        "colab": {
          "base_uri": "https://localhost:8080/",
          "height": 280
        },
        "id": "x6wGZUT-aAAb",
        "outputId": "065bac65-44ac-4bed-fa4e-a98392f23c55"
      },
      "source": [
        "annual_drug_rate.plot();"
      ],
      "execution_count": 32,
      "outputs": [
        {
          "output_type": "display_data",
          "data": {
            "image/png": "[encoded data removed]",
            "text/plain": [
              "<Figure size 432x288 with 1 Axes>"
            ]
          },
          "metadata": {
            "tags": [],
            "needs_background": "light"
          }
        }
      ]
    },
    {
      "cell_type": "markdown",
      "metadata": {
        "id": "4Jtb2v9yOSBS"
      },
      "source": [
        "***"
      ]
    },
    {
      "cell_type": "markdown",
      "metadata": {
        "id": "X9DSET4pOSBS"
      },
      "source": [
        "## Comparing drug and search rates (to be deleted)"
      ]
    },
    {
      "cell_type": "markdown",
      "metadata": {
        "id": "l7Yn_uFgOSBT"
      },
      "source": [
        "As you saw in the last exercise, the rate of **drug-related stops** increased significantly between ``2005`` and ``2015``. You might hypothesize that the rate of vehicle searches was also increasing, which would have led to an increase in drug-related stops even if more drivers were not carrying drugs.\n",
        "\n",
        "You can test this hypothesis by calculating the annual search rate, and then plotting it against the annual drug rate. If the hypothesis is true, then you'll see both rates increasing over time."
      ]
    },
    {
      "cell_type": "markdown",
      "metadata": {
        "id": "6jrQ4k9OOSBT"
      },
      "source": [
        "**INSTRUCTIONS**\n",
        "\n",
        "*   Calculate the annual search rate by **resampling** the ``search_conducted`` column, and save the result as ``annual_search_rate``.\n",
        "*   Concatenate ``annual_drug_rate`` and ``annual_search_rate`` along the ``columns axis``, and save the result as ``annual``.\n",
        "*   Create subplots of the drug and search rates from the ``annual`` ``DataFrame``.\n",
        "*   Display the subplots."
      ]
    },
    {
      "cell_type": "code",
      "metadata": {
        "id": "-JGTVV9fOSBU"
      },
      "source": [
        ""
      ],
      "execution_count": null,
      "outputs": []
    },
    {
      "cell_type": "markdown",
      "metadata": {
        "id": "kUBiaWxHOSBU"
      },
      "source": [
        "***"
      ]
    },
    {
      "cell_type": "markdown",
      "metadata": {
        "id": "s-I8RDZ-OSBU"
      },
      "source": [
        "## Tallying violations by district"
      ]
    },
    {
      "cell_type": "markdown",
      "metadata": {
        "id": "ZHSVSXaeOSBU"
      },
      "source": [
        "The state of **Rhode Island** is broken into six police districts, also known as zones. How do the zones compare in terms of what violations are caught by police?\n",
        "\n",
        "In this exercise, you'll create a frequency table to determine how many violations of each type took place in each of the six zones. Then, you'll filter the table to focus on the ``\"K\"`` zones, which you'll examine further in the next exercise."
      ]
    },
    {
      "cell_type": "markdown",
      "metadata": {
        "id": "t4yv---4OSBV"
      },
      "source": [
        "**INSTRUCTIONS**\n",
        "\n",
        "*   Create a ``frequency table`` from the ``district`` and ``violation`` columns using the ``pd.crosstab()`` function.\n",
        "*   Save the ``frequency table`` as a new object, ``all_zones``.\n",
        "*   Select rows ``'Zone K1'`` through ``'Zone K3'`` from ``all_zones`` using the ``.loc[]`` accessor.\n",
        "*   Save the smaller table as a new object, ``k_zones``."
      ]
    },
    {
      "cell_type": "code",
      "metadata": {
        "id": "T0QqBq_tOSBV"
      },
      "source": [
        ""
      ],
      "execution_count": null,
      "outputs": []
    },
    {
      "cell_type": "markdown",
      "metadata": {
        "id": "xLlLQi2dOSBW"
      },
      "source": [
        "***"
      ]
    },
    {
      "cell_type": "markdown",
      "metadata": {
        "id": "_Edv3DLCOSBW"
      },
      "source": [
        "## Plotting violations by district"
      ]
    },
    {
      "cell_type": "markdown",
      "metadata": {
        "id": "rGYfnYqQOSBW"
      },
      "source": [
        "Now that you've created a frequency table focused on the ``\"K\"`` zones, you'll visualize the data to help you compare what violations are being caught in each zone.\n",
        "\n",
        "First you'll create a **bar plot**, which is an appropriate plot type since you're comparing categorical data. Then you'll create a **stacked bar plot** in order to get a slightly different look at the data. Which plot do you find to be more insightful?"
      ]
    },
    {
      "cell_type": "markdown",
      "metadata": {
        "id": "6B1i5s6GOSBX"
      },
      "source": [
        "**INSTRUCTIONS 1/2**\n",
        "\n",
        "*   Create a bar plot of ``k_zones``.\n",
        "*   Display the plot and examine it. What do you notice about each of the zones?"
      ]
    },
    {
      "cell_type": "code",
      "metadata": {
        "id": "fh1YeNCzOSBX"
      },
      "source": [
        ""
      ],
      "execution_count": null,
      "outputs": []
    },
    {
      "cell_type": "markdown",
      "metadata": {
        "id": "TLBMZ3QbOSBX"
      },
      "source": [
        "**INSTRUCTIONS 2/2**\n",
        "\n",
        "*   Create a stacked bar plot of ``k_zones``.\n",
        "*   Display the plot and examine it. Do you notice anything different about the data than you did previously?"
      ]
    },
    {
      "cell_type": "code",
      "metadata": {
        "id": "noHzwZE3OSBY"
      },
      "source": [
        ""
      ],
      "execution_count": null,
      "outputs": []
    },
    {
      "cell_type": "markdown",
      "metadata": {
        "id": "1sgBQvoOOSBY"
      },
      "source": [
        "***"
      ]
    },
    {
      "cell_type": "markdown",
      "metadata": {
        "id": "mlMztqudOSBY"
      },
      "source": [
        "## Converting stop durations to numbers"
      ]
    },
    {
      "cell_type": "markdown",
      "metadata": {
        "id": "W7XpUbrWOSBY"
      },
      "source": [
        "In the traffic stops dataset, the ``stop_duration`` column tells you approximately how long the driver was detained by the officer. Unfortunately, the durations are stored as ``strings``, such as ``'0-15 Min'``. How can you make this data easier to analyze?\n",
        "\n",
        "In this exercise, you'll convert the **stop durations** to ``integers``. Because the precise durations are not available, you'll have to estimate the numbers using reasonable values:\n",
        "\n",
        "*   Convert ``'0-15 Min'`` to ``8``\n",
        "*   Convert ``'16-30 Min'`` to ``23``\n",
        "*   Convert ``'30+ Min'`` to ``45``"
      ]
    },
    {
      "cell_type": "markdown",
      "metadata": {
        "id": "gN0bXM5COSBZ"
      },
      "source": [
        "**INSTRUCTIONS**\n",
        "\n",
        "*   Print the **unique values** in the ``stop_duration`` column. (This has been done for you.)\n",
        "*   Create a ``dictionary`` called ``mapping`` that maps the ``stop_duration`` strings to the integers specified above.\n",
        "*   Convert the ``stop_duration`` strings to integers using the ``mapping``, and store the results in a new column called ``stop_minutes``.\n",
        "*   Print the unique values in the ``stop_minutes`` column, to verify that the durations were properly converted to integers."
      ]
    },
    {
      "cell_type": "code",
      "metadata": {
        "id": "Zjr5etgwOSBa"
      },
      "source": [
        ""
      ],
      "execution_count": null,
      "outputs": []
    },
    {
      "cell_type": "markdown",
      "metadata": {
        "id": "hBcM69WROSBa"
      },
      "source": [
        "***"
      ]
    },
    {
      "cell_type": "markdown",
      "metadata": {
        "id": "fEYkawaZOSBb"
      },
      "source": [
        "## Plotting stop length"
      ]
    },
    {
      "cell_type": "raw",
      "metadata": {
        "id": "RDD6r8V4OSBb"
      },
      "source": [
        "If you were stopped for a particular violation, how long might you expect to be detained?\n",
        "\n",
        "In this exercise, you'll visualize the **average length** of time drivers are stopped for each **type** of **violation**. Rather than using the ``violation`` column in this exercise, you'll use ``violation_raw`` since it contains more detailed descriptions of the violations."
      ]
    },
    {
      "cell_type": "markdown",
      "metadata": {
        "id": "Gao6YXQtOSBb"
      },
      "source": [
        "**INSTRUCTIONS**\n",
        "\n",
        "*   For each value in the ``violation_raw`` column, calculate the **mean number** of ``stop_minutes`` that a driver is detained.\n",
        "*   Save the resulting ``Series`` as a new object, ``stop_length``.\n",
        "*   Sort ``stop_length`` by its values, and then visualize it using a **horizontal bar plot**.\n",
        "*   Display the plot."
      ]
    },
    {
      "cell_type": "code",
      "metadata": {
        "id": "Sd6fjUdFOSBc"
      },
      "source": [
        ""
      ],
      "execution_count": null,
      "outputs": []
    }
  ]
}